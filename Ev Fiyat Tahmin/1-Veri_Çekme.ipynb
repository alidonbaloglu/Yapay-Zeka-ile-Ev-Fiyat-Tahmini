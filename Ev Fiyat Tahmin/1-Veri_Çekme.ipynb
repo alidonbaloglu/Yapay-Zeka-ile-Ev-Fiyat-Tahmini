{
 "cells": [
  {
   "cell_type": "markdown",
   "id": "843f015c-1642-4c47-9f20-0cb877ffa32f",
   "metadata": {},
   "source": [
    "#Sahibinden.com sitesi üzerinden Bursa'nın ilçelerindeki ev bilgilerini ilçeler bazında toplayacagız en son bu topladığımız bilgileri birleştireceğiz"
   ]
  },
  {
   "cell_type": "code",
   "execution_count": null,
   "id": "59010a2d-ae86-4cb8-8b39-6777f4374197",
   "metadata": {},
   "outputs": [],
   "source": [
    "#gerekli kütüphanelerin kurulumu\n",
    "import pyautogui\n",
    "from selenium import webdriver\n",
    "import time\n",
    "import pandas as pd\n",
    "\n",
    "#listeden string ifadeye çevirmek için kullanacağımız fonksiyon\n",
    "def LisToString(s):\n",
    "    str1 = \" \"\n",
    "    return (str1.join(s))\n",
    "#Chrome Webdriveri çağırıyoruz\n",
    "browser = webdriver.Chrome()\n",
    "\"\"\"\n",
    "----------------------------------------------------------------------------------------------------------------------------------\n",
    "sitedeki sayfa sayıları 50'nin katları şekilden değişiyor (2.sayfanın numarası 50, 3.sayfanın numarası 100...) bu yüzden sayfaları \n",
    "geçebilemk için iki değişken oluşturduk m sayfanın \"pagingOffset=\" kısmına gelecek şekilde ayarlandı. n her sayfadaki işlem bittikten\n",
    "sonra bir sonraki sayfaya geçebilmek için bir arttırılarak devam ediyor.\n",
    "----------------------------------------------------------------------------------------------------------------------------------\n",
    "\"\"\"\n",
    "n=1\n",
    "m=0\n",
    "while m<=100:\n",
    "    #ilk sayfanın  \"pagingOffset\" kısmı 0 da başlıyor döngüyü bozmamsı için ona ayrı bir if yapısı uyguladım.\n",
    "    if m==0:\n",
    "        browser.get(\"https://www.sahibinden.com/satilik/bursa-iznik?pagingOffset=\"+str(m)+\"&pagingSize=50\")\n",
    "        m+=1\n",
    "        continue\n",
    "    else:\n",
    "        browser.get(\"https://www.sahibinden.com/satilik/bursa-iznik?pagingOffset=\"+str(m)+\"&pagingSize=50\")\n",
    "        m=n*50\n",
    "        print(n,\"sayfa tamamlandi\")\n",
    "        n+=1\n",
    "        \n",
    "        time.sleep(2)\n",
    "\n",
    "        \n",
    "\"\"\"\"\n",
    "------------------------------------------------------------------------------------------------------------------------------------\n",
    "Her bir sayfanın içinde 50 adet ilan var bu ilanlar sıralı olarak tr[] şeklinde değişiyor. Sadece 4. tr[] reklam içerdiği için onu \n",
    "if yapısı ile devre dışı bıraktık.\n",
    "------------------------------------------------------------------------------------------------------------------------------------\n",
    "\"\"\"\"\n",
    "        i = 1\n",
    "        while i <= 51:\n",
    "            if   i==4 :\n",
    "                i+=1\n",
    "                continue\n",
    "            else:\n",
    "                tıkla = browser.find_element_by_xpath(\"/html/body/div[4]/div[4]/form/div/div[3]/table/tbody/tr[\"+str(i)+\"]\")\n",
    "                tıkla.click()\n",
    "                \n",
    "                #tıkladıktan sonra biraz bekletmek iyi oluyor çünkü tıkladıktan sonra sayfa hemen yüklenemezse bilgileri bulamayıp hata veriyor\n",
    "                time.sleep(2)\n",
    "                \n",
    "                i+=1\n",
    "                #evin konum bilgisi ayrı bir yerde verildiği için onu ayrı almamız gerekiyor\n",
    "                konumlar=[]\n",
    "                konum=browser.find_elements_by_css_selector(\"#classifiedDetail > div > div.classifiedDetailContent > div.classifiedInfo > h2 > a:nth-child(3)\")\n",
    "                for a in konum:\n",
    "                    konumlar.append(a.text)\n",
    "                    #print(a.text)\n",
    "                    \n",
    "                #evin fiyat bilgisi ayrı bir yerde verildiği için onu ayrı almamız gerekiyor\n",
    "                fiyatlar=[]    \n",
    "                fiyat=browser.find_elements_by_css_selector(\"#classifiedDetail > div > div.classifiedDetailContent > div.classifiedInfo > h3\")\n",
    "                for a in fiyat:\n",
    "                    fiyatlar.append(a.text)\n",
    "                    #print(a.text)\n",
    "                    \n",
    "                #evin detaylar bilgisi ayrı bir yerde verildiği için onu ayrı almamız gerekiyor\n",
    "                detaylar=[]   \n",
    "                detay=browser.find_elements_by_css_selector(\"#classifiedDetail > div > div.classifiedDetailContent > div.classifiedInfo > ul\")\n",
    "                for a in detay:\n",
    "                    detaylar.append(a.text)\n",
    "                    #print(a.text)\n",
    "                #gelen detay bilgilerini daha kolay düzletmek için fonksiyonumuzu kullanıyoruz. \n",
    "                det_str = LisToString(detaylar)\n",
    "                ayrı = det_str.split(\"\\n\")\n",
    "                df = pd.DataFrame(ayrı)\n",
    "                #bize sadece detay bilgileri lazım olduğu için başlıkları silmemiz lazım bunun için aşağıdaki fonksiyonu kullanıyoruz\n",
    "                sinir=df.count()[0]-1\n",
    "                j = 0\n",
    "                while j <= sinir:\n",
    "                    df.drop([j], axis=0 , inplace=True)\n",
    "                    j = j + 2\n",
    "                #başlıkları sildiğimiz için indexlerde kayma oldu bunu düzeltmek için de indexleri resetledik\n",
    "                df_yeni = df.reset_index()    \n",
    "                df_yeni.drop(\"index\", axis = 1, inplace = True)\n",
    "                df_liste = df_yeni.values.tolist()\n",
    "                \n",
    "                #fiaytlar TL olarak geldiğini bildiğimiz için sonundaki TL ifadesini siliyoruz\n",
    "                yeni_fiyat=[]\n",
    "                yeni_fiyat1=fiyatlar[0].replace(\"TL\",\"\").strip()\n",
    "                yeni_fiyat.append(yeni_fiyat1)\n",
    "\n",
    "                \n",
    "                #oluşturduğumuz bilgileri listelere ekliyoruz\n",
    "                df_liste.append(konumlar)\n",
    "                df_liste.append(yeni_fiyat)\n",
    "                \n",
    "                #listenin Transpozunu alarak dataframe haline getiriyoruz\n",
    "                df_içerikler = pd.DataFrame(df_liste).T\n",
    "                #oluşturduğumuz dataframeyi csv dosyasına kaydediyoruz\n",
    "                df_içerikler.to_csv(r\"yildirim.csv\",encoding=\"utf-8\",index=False, mode=\"a\")\n",
    "\n",
    "\n",
    "                #ilan bilgilerini aldıktan sonra geri çıkma işlemini yapıyoruz\n",
    "                browser.execute_script(\"window.history.go(-1)\")\n",
    "                #sayfanın tekrar yüklenmesini bekliyoruz aksi takdirde sayfa geç yüklenirse hata verebilir\n",
    "                time.sleep(2)\n",
    "        "
   ]
  },
  {
   "cell_type": "markdown",
   "id": "f4c856c6-8f94-47a3-b08b-b037e43d3201",
   "metadata": {},
   "source": [
    "### verileri ilçe ilçe indirmiştik bu yüzden gelen verileri birleştirmek gerekiyor"
   ]
  },
  {
   "cell_type": "code",
   "execution_count": null,
   "id": "4ea98311-ff32-4702-bebd-f6dd3a168dc2",
   "metadata": {},
   "outputs": [],
   "source": [
    "#veriyi csv dosyasından okuyoruz ve uzunluğunu ölçüyoruz"
   ]
  },
  {
   "cell_type": "code",
   "execution_count": null,
   "id": "729b0103-9d5c-4aad-8615-ea38ac2935d7",
   "metadata": {},
   "outputs": [],
   "source": [
    "df=pd.read_csv(\"gemlik_1.csv\")\n",
    "uzunluk=len(df)-1"
   ]
  },
  {
   "cell_type": "code",
   "execution_count": null,
   "id": "45804c26-b4fc-4a62-8bcd-0c309fa04343",
   "metadata": {},
   "outputs": [],
   "source": [
    "#veriyi csv dosyasına her kaydedişte satırlara kendisi yeniden sütun oluşturduğu için bu satırdaki sütun bilgierini silmek gerekiyor"
   ]
  },
  {
   "cell_type": "code",
   "execution_count": null,
   "id": "5fcf6fdc-f237-405b-9066-e493775f5a8e",
   "metadata": {},
   "outputs": [],
   "source": [
    "i = 1\n",
    "while i <= uzunluk:\n",
    "    df.drop(i,inplace = True)\n",
    "    i=i+2\n",
    "df"
   ]
  },
  {
   "cell_type": "code",
   "execution_count": null,
   "id": "436df2c1-3074-4a76-b60d-70a17950be62",
   "metadata": {},
   "outputs": [],
   "source": [
    "#satır silme işlemi yaptığımız için indexler bozuluyor bunu düzeltmek için de indexleri resetliyoruz"
   ]
  },
  {
   "cell_type": "code",
   "execution_count": null,
   "id": "411fc694-a464-4427-8b61-1255c9bd209e",
   "metadata": {},
   "outputs": [],
   "source": [
    "df = df.reset_index()\n",
    "df.drop(\"index\", axis = 1, inplace = True)\n",
    "df"
   ]
  },
  {
   "cell_type": "code",
   "execution_count": null,
   "id": "329326f7-01f8-4525-a427-2d24f3c77ef0",
   "metadata": {},
   "outputs": [],
   "source": [
    "#ilçelerdeki bilgileri tek bir csv dosyasında birleştirmek için önce hepsini yüklüyoruz"
   ]
  },
  {
   "cell_type": "code",
   "execution_count": null,
   "id": "fdad46eb-cecf-42ce-8261-bea58596f3e2",
   "metadata": {},
   "outputs": [],
   "source": [
    "df_gemlik=pd.read_csv(\"gemlik_1.csv\")\n",
    "df_gursu=pd.read_csv(\"gursu_1.csv\")\n",
    "df_inegol=pd.read_csv(\"inegol_1.csv\")\n",
    "df_karacabey=pd.read_csv(\"karacabey_1.csv\")\n",
    "df_kestel=pd.read_csv(\"kestel_1.csv\")\n",
    "df_mudanya=pd.read_csv(\"mudanya_1.csv\")\n",
    "df_mustafakemalpasa=pd.read_csv(\"mustafakemalpasa_1.csv\")\n",
    "df_nilufer=pd.read_csv(\"nilufer_1.csv\")\n",
    "df_orhaneli=pd.read_csv(\"orhaneli_1.csv\")\n",
    "df_orhangazi=pd.read_csv(\"orhangazi_1.csv\")\n",
    "df_osmangazi=pd.read_csv(\"osmangazi_1.csv\")\n",
    "df_yenisehir=pd.read_csv(\"yenisehir_1.csv\")\n",
    "df_yildirim=pd.read_csv(\"yıldırım_1.csv\")"
   ]
  },
  {
   "cell_type": "code",
   "execution_count": null,
   "id": "219a9124-4765-4abd-acff-14383a0d516f",
   "metadata": {},
   "outputs": [],
   "source": [
    "#concat metodu ile tüm ilçeleri birleştiriyoruz. indexler kaydığı için yine resetleme işlemi yapıyoruz"
   ]
  },
  {
   "cell_type": "code",
   "execution_count": null,
   "id": "00a1fbb7-3a81-4d07-9e31-398eb9b0edb9",
   "metadata": {},
   "outputs": [],
   "source": [
    "df_enson=pd.concat([df_gemlik,df_gursu,df_inegol,df_karacabey,df_kestel,df_mudanya,df_mustafakemalpasa,\n",
    "                   df_nilufer,df_orhaneli,df_orhangazi,df_osmangazi,df_yenisehir,df_yildirim]\n",
    "                   axis=0)\n",
    "df = df_enson.reset_index()\n",
    "df.drop(\"index\", axis = 1, inplace = True)\n",
    "df"
   ]
  },
  {
   "cell_type": "code",
   "execution_count": null,
   "id": "6ae417bc-78ae-4695-8e3b-1a6e6811c132",
   "metadata": {},
   "outputs": [],
   "source": [
    "#sütun adlarını düzenliyoruz"
   ]
  },
  {
   "cell_type": "code",
   "execution_count": null,
   "id": "3e190044-1e63-4706-b395-ca00ef66fdbc",
   "metadata": {},
   "outputs": [],
   "source": [
    "df = df.rename(columns = {\"0\":\"ilan_no\",\n",
    "                     \"1\":\"ilan_tarihi\",\n",
    "                     \"2\":\"emlak_tipi\",\n",
    "                     \"3\":\"m2_brut\",\n",
    "                     \"4\":\"m2_net\",\n",
    "                     \"5\":\"oda_sayisi\",\n",
    "                     \"6\":\"bina_yaşi\",\n",
    "                     \"7\":\"bulundugu_kat\",\n",
    "                     \"8\":\"kat_sayisi\",\n",
    "                     \"9\":\"isitma\",\n",
    "                     \"10\":\"banyo_sayisi\",\n",
    "                     \"11\":\"balkon\",\n",
    "                     \"12\":\"esyali\",\n",
    "                     \"13\":\"kullanim_durumu\",\n",
    "                     \"14\":\"site_icerisi\",\n",
    "                     \"15\":\"site_adi\",\n",
    "                     \"16\":\"aidat_tl\",\n",
    "                     \"17\":\"krediye_uygun\",\n",
    "                     \"18\":\"tapu_durumu\",\n",
    "                     \"19\":\"kimden\",\n",
    "                     \"20\":\"gezilebilir\",\n",
    "                     \"21\":\"takas\",\n",
    "                     \"22\":\"konum\",\n",
    "                     \"23\":\"fiyat\"})\n",
    "df.head()"
   ]
  },
  {
   "cell_type": "code",
   "execution_count": null,
   "id": "319769fb-dcaa-44bc-b678-2bd13af0fd8c",
   "metadata": {},
   "outputs": [],
   "source": [
    "#ilan no unique değer olduğu için onun üzerinden uniquelik durumunu gözlemleyip unique olmayan değerleri siliyoruz"
   ]
  },
  {
   "cell_type": "code",
   "execution_count": null,
   "id": "a5846f4e-8d7d-4197-a896-37d4f066e96b",
   "metadata": {},
   "outputs": [],
   "source": [
    "df[\"ilan_no\"].count()"
   ]
  },
  {
   "cell_type": "code",
   "execution_count": null,
   "id": "20db4ba8-e659-42c3-8ad7-7a9646eb575f",
   "metadata": {},
   "outputs": [],
   "source": [
    "df_dedupped = df.drop_duplicates()\n",
    "df = df_dedupped.reset_index()\n",
    "df.drop(\"index\", axis = 1, inplace = True)\n",
    "df[\"ilan_no\"].count()"
   ]
  },
  {
   "cell_type": "code",
   "execution_count": null,
   "id": "62ad4f30-696d-4778-9381-8a915e1514e5",
   "metadata": {},
   "outputs": [],
   "source": [
    "df1=df.copy()"
   ]
  },
  {
   "cell_type": "code",
   "execution_count": null,
   "id": "c1ace2f1-8ae5-4332-a6fd-ad7f1d122a85",
   "metadata": {},
   "outputs": [],
   "source": [
    "df2=df1.dropna()"
   ]
  },
  {
   "cell_type": "code",
   "execution_count": null,
   "id": "ebcd1dc2-e919-4103-9099-607dd18463b9",
   "metadata": {},
   "outputs": [],
   "source": [
    "df2.isnull().sum()"
   ]
  },
  {
   "cell_type": "code",
   "execution_count": null,
   "id": "43b4dbae-2e9d-4d47-8c66-1bdb2c61cafb",
   "metadata": {},
   "outputs": [],
   "source": [
    "df2 = df2.reset_index()\n",
    "df2.drop(\"index\", axis = 1, inplace = True)"
   ]
  },
  {
   "cell_type": "code",
   "execution_count": null,
   "id": "b255b77a-d0ab-46ac-a039-7bb3775c00df",
   "metadata": {},
   "outputs": [],
   "source": [
    "#son halini alan veri setini kaydediyoruz"
   ]
  },
  {
   "cell_type": "code",
   "execution_count": null,
   "id": "5030ff16-8163-4459-8476-196ddddc8442",
   "metadata": {},
   "outputs": [],
   "source": [
    "df2.to_csv(r\"tamveri.csv\",encoding=\"utf-8\",index=False, mode=\"a\")"
   ]
  },
  {
   "cell_type": "code",
   "execution_count": null,
   "id": "0b995044-3d34-4208-8858-49b4ef99e489",
   "metadata": {},
   "outputs": [],
   "source": [
    "df2.to_excel(\"tamveri.xlsx\")"
   ]
  },
  {
   "cell_type": "markdown",
   "id": "b5ba0a38-c0f7-4ed5-9539-e0dcc800ec3a",
   "metadata": {},
   "source": [
    "# veriyi indirme ve birleştirme işlemleri tamamlandı"
   ]
  },
  {
   "cell_type": "code",
   "execution_count": null,
   "id": "450cbc54-611d-4750-b5fe-16ab3a477f34",
   "metadata": {},
   "outputs": [],
   "source": []
  }
 ],
 "metadata": {
  "kernelspec": {
   "display_name": "Python 3",
   "language": "python",
   "name": "python3"
  },
  "language_info": {
   "codemirror_mode": {
    "name": "ipython",
    "version": 3
   },
   "file_extension": ".py",
   "mimetype": "text/x-python",
   "name": "python",
   "nbconvert_exporter": "python",
   "pygments_lexer": "ipython3",
   "version": "3.8.8"
  }
 },
 "nbformat": 4,
 "nbformat_minor": 5
}
