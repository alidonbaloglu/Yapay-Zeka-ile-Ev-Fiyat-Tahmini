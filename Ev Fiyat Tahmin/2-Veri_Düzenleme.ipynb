{
 "cells": [
  {
   "cell_type": "markdown",
   "id": "9ac8ebc7-20af-4315-9c56-73f31919a415",
   "metadata": {},
   "source": [
    "## veriyi makine öğrnemsine uygun olacak şekilde hazırlayacağız"
   ]
  },
  {
   "cell_type": "code",
   "execution_count": 1,
   "id": "974ca5e8-f294-403e-92c6-85621df29a8d",
   "metadata": {},
   "outputs": [],
   "source": [
    "#gerekli kütüphalerei kuruyoruz veri setini içeriye aktarıyoruz gerekmez olan sütunu silip \n",
    "#incelemeye başlıyoruz"
   ]
  },
  {
   "cell_type": "code",
   "execution_count": 1,
   "id": "b9c96200-c451-4a4e-9cbe-e912a832c5c9",
   "metadata": {},
   "outputs": [],
   "source": [
    "import pandas as pd\n",
    "import seaborn as sns\n",
    "import matplotlib.pyplot as plt"
   ]
  },
  {
   "cell_type": "code",
   "execution_count": 2,
   "id": "2672d1d9-b89d-4c27-a0ff-93bf36275520",
   "metadata": {},
   "outputs": [],
   "source": [
    "df=pd.read_excel(\"tamveri1.xlsx\")"
   ]
  },
  {
   "cell_type": "code",
   "execution_count": 3,
   "id": "73c33e8d-9de6-42d8-99ec-8559106dd778",
   "metadata": {},
   "outputs": [],
   "source": [
    "df = df.reset_index()\n",
    "df.drop(\"index\", axis = 1, inplace = True)"
   ]
  },
  {
   "cell_type": "code",
   "execution_count": 4,
   "id": "47171a58-3404-4714-8cde-a27089a43c4d",
   "metadata": {},
   "outputs": [],
   "source": [
    "df.drop(\"Unnamed: 0\",axis=1,inplace=True)"
   ]
  },
  {
   "cell_type": "code",
   "execution_count": 5,
   "id": "ae4f4f90-6d77-4e4e-b80c-18ac53c31ccd",
   "metadata": {},
   "outputs": [
    {
     "data": {
      "text/html": [
       "<div>\n",
       "<style scoped>\n",
       "    .dataframe tbody tr th:only-of-type {\n",
       "        vertical-align: middle;\n",
       "    }\n",
       "\n",
       "    .dataframe tbody tr th {\n",
       "        vertical-align: top;\n",
       "    }\n",
       "\n",
       "    .dataframe thead th {\n",
       "        text-align: right;\n",
       "    }\n",
       "</style>\n",
       "<table border=\"1\" class=\"dataframe\">\n",
       "  <thead>\n",
       "    <tr style=\"text-align: right;\">\n",
       "      <th></th>\n",
       "      <th>count</th>\n",
       "      <th>mean</th>\n",
       "      <th>std</th>\n",
       "      <th>min</th>\n",
       "      <th>25%</th>\n",
       "      <th>50%</th>\n",
       "      <th>75%</th>\n",
       "      <th>max</th>\n",
       "    </tr>\n",
       "  </thead>\n",
       "  <tbody>\n",
       "    <tr>\n",
       "      <th>m2_brut</th>\n",
       "      <td>5215.0</td>\n",
       "      <td>145.306783</td>\n",
       "      <td>60.312785</td>\n",
       "      <td>1.157</td>\n",
       "      <td>110.0</td>\n",
       "      <td>135.0</td>\n",
       "      <td>160.0</td>\n",
       "      <td>711.0</td>\n",
       "    </tr>\n",
       "    <tr>\n",
       "      <th>m2_net</th>\n",
       "      <td>5215.0</td>\n",
       "      <td>127.773730</td>\n",
       "      <td>52.104905</td>\n",
       "      <td>18.000</td>\n",
       "      <td>95.0</td>\n",
       "      <td>120.0</td>\n",
       "      <td>140.0</td>\n",
       "      <td>711.0</td>\n",
       "    </tr>\n",
       "    <tr>\n",
       "      <th>fiyat</th>\n",
       "      <td>4811.0</td>\n",
       "      <td>446251.737684</td>\n",
       "      <td>201505.573473</td>\n",
       "      <td>17500.000</td>\n",
       "      <td>290000.0</td>\n",
       "      <td>410000.0</td>\n",
       "      <td>575000.0</td>\n",
       "      <td>999000.0</td>\n",
       "    </tr>\n",
       "  </tbody>\n",
       "</table>\n",
       "</div>"
      ],
      "text/plain": [
       "          count           mean            std        min       25%       50%  \\\n",
       "m2_brut  5215.0     145.306783      60.312785      1.157     110.0     135.0   \n",
       "m2_net   5215.0     127.773730      52.104905     18.000      95.0     120.0   \n",
       "fiyat    4811.0  446251.737684  201505.573473  17500.000  290000.0  410000.0   \n",
       "\n",
       "              75%       max  \n",
       "m2_brut     160.0     711.0  \n",
       "m2_net      140.0     711.0  \n",
       "fiyat    575000.0  999000.0  "
      ]
     },
     "execution_count": 5,
     "metadata": {},
     "output_type": "execute_result"
    }
   ],
   "source": [
    "df.describe().T"
   ]
  },
  {
   "cell_type": "code",
   "execution_count": 164,
   "id": "1ef9c69f-b20d-457a-b30e-fab04e9ffb6c",
   "metadata": {},
   "outputs": [
    {
     "data": {
      "text/html": [
       "<div>\n",
       "<style scoped>\n",
       "    .dataframe tbody tr th:only-of-type {\n",
       "        vertical-align: middle;\n",
       "    }\n",
       "\n",
       "    .dataframe tbody tr th {\n",
       "        vertical-align: top;\n",
       "    }\n",
       "\n",
       "    .dataframe thead th {\n",
       "        text-align: right;\n",
       "    }\n",
       "</style>\n",
       "<table border=\"1\" class=\"dataframe\">\n",
       "  <thead>\n",
       "    <tr style=\"text-align: right;\">\n",
       "      <th></th>\n",
       "      <th>emlak_tipi</th>\n",
       "      <th>m2_brut</th>\n",
       "      <th>m2_net</th>\n",
       "      <th>oda_sayisi</th>\n",
       "      <th>bina_yaşi</th>\n",
       "      <th>bulundugu_kat</th>\n",
       "      <th>kat_sayisi</th>\n",
       "      <th>isitma</th>\n",
       "      <th>banyo_sayisi</th>\n",
       "      <th>balkon</th>\n",
       "      <th>...</th>\n",
       "      <th>kullanim_durumu</th>\n",
       "      <th>site_icerisi</th>\n",
       "      <th>aidat_tl</th>\n",
       "      <th>krediye_uygun</th>\n",
       "      <th>tapu_durumu</th>\n",
       "      <th>kimden</th>\n",
       "      <th>gezilebilir</th>\n",
       "      <th>takas</th>\n",
       "      <th>konum</th>\n",
       "      <th>fiyat</th>\n",
       "    </tr>\n",
       "  </thead>\n",
       "  <tbody>\n",
       "    <tr>\n",
       "      <th>0</th>\n",
       "      <td>Satılık Daire</td>\n",
       "      <td>110.0</td>\n",
       "      <td>100.0</td>\n",
       "      <td>2+1</td>\n",
       "      <td>0</td>\n",
       "      <td>1</td>\n",
       "      <td>3</td>\n",
       "      <td>Doğalgaz (Kombi)</td>\n",
       "      <td>1</td>\n",
       "      <td>Var</td>\n",
       "      <td>...</td>\n",
       "      <td>Boş</td>\n",
       "      <td>Hayır</td>\n",
       "      <td>Belirtilmemiş</td>\n",
       "      <td>Evet</td>\n",
       "      <td>Kat İrtifaklı</td>\n",
       "      <td>İnşaat Firmasından</td>\n",
       "      <td>Hayır</td>\n",
       "      <td>Hayır</td>\n",
       "      <td>Gemlik</td>\n",
       "      <td>355000.0</td>\n",
       "    </tr>\n",
       "    <tr>\n",
       "      <th>1</th>\n",
       "      <td>Satılık Daire</td>\n",
       "      <td>100.0</td>\n",
       "      <td>90.0</td>\n",
       "      <td>2+1</td>\n",
       "      <td>4</td>\n",
       "      <td>Yüksek Giriş</td>\n",
       "      <td>3</td>\n",
       "      <td>Doğalgaz (Kombi)</td>\n",
       "      <td>1</td>\n",
       "      <td>Var</td>\n",
       "      <td>...</td>\n",
       "      <td>Boş</td>\n",
       "      <td>Hayır</td>\n",
       "      <td>0</td>\n",
       "      <td>Evet</td>\n",
       "      <td>Kat İrtifaklı</td>\n",
       "      <td>Emlak Ofisinden</td>\n",
       "      <td>Evet</td>\n",
       "      <td>Evet</td>\n",
       "      <td>Gemlik</td>\n",
       "      <td>295000.0</td>\n",
       "    </tr>\n",
       "    <tr>\n",
       "      <th>2</th>\n",
       "      <td>Satılık Daire</td>\n",
       "      <td>85.0</td>\n",
       "      <td>80.0</td>\n",
       "      <td>2+1</td>\n",
       "      <td>0</td>\n",
       "      <td>1</td>\n",
       "      <td>4</td>\n",
       "      <td>Doğalgaz (Kombi)</td>\n",
       "      <td>1</td>\n",
       "      <td>Var</td>\n",
       "      <td>...</td>\n",
       "      <td>Boş</td>\n",
       "      <td>Hayır</td>\n",
       "      <td>Belirtilmemiş</td>\n",
       "      <td>Evet</td>\n",
       "      <td>Kat İrtifaklı</td>\n",
       "      <td>Emlak Ofisinden</td>\n",
       "      <td>Hayır</td>\n",
       "      <td>Hayır</td>\n",
       "      <td>Gemlik</td>\n",
       "      <td>370000.0</td>\n",
       "    </tr>\n",
       "    <tr>\n",
       "      <th>3</th>\n",
       "      <td>Satılık Daire</td>\n",
       "      <td>145.0</td>\n",
       "      <td>130.0</td>\n",
       "      <td>3+1</td>\n",
       "      <td>0</td>\n",
       "      <td>2</td>\n",
       "      <td>3</td>\n",
       "      <td>Doğalgaz (Kombi)</td>\n",
       "      <td>2</td>\n",
       "      <td>Var</td>\n",
       "      <td>...</td>\n",
       "      <td>Boş</td>\n",
       "      <td>Hayır</td>\n",
       "      <td>Belirtilmemiş</td>\n",
       "      <td>Evet</td>\n",
       "      <td>Kat İrtifaklı</td>\n",
       "      <td>Emlak Ofisinden</td>\n",
       "      <td>Evet</td>\n",
       "      <td>Evet</td>\n",
       "      <td>Gemlik</td>\n",
       "      <td>420000.0</td>\n",
       "    </tr>\n",
       "    <tr>\n",
       "      <th>4</th>\n",
       "      <td>Satılık Daire</td>\n",
       "      <td>80.0</td>\n",
       "      <td>80.0</td>\n",
       "      <td>2+1</td>\n",
       "      <td>16-20 arası</td>\n",
       "      <td>2</td>\n",
       "      <td>2</td>\n",
       "      <td>Doğalgaz (Kombi)</td>\n",
       "      <td>1</td>\n",
       "      <td>Var</td>\n",
       "      <td>...</td>\n",
       "      <td>Mülk Sahibi</td>\n",
       "      <td>Hayır</td>\n",
       "      <td>Belirtilmemiş</td>\n",
       "      <td>Evet</td>\n",
       "      <td>Kat İrtifaklı</td>\n",
       "      <td>Sahibinden</td>\n",
       "      <td>Evet</td>\n",
       "      <td>Hayır</td>\n",
       "      <td>Gemlik</td>\n",
       "      <td>280000.0</td>\n",
       "    </tr>\n",
       "  </tbody>\n",
       "</table>\n",
       "<p>5 rows × 21 columns</p>\n",
       "</div>"
      ],
      "text/plain": [
       "         emlak_tipi  m2_brut  m2_net oda_sayisi      bina_yaşi  \\\n",
       "0    Satılık Daire     110.0   100.0        2+1              0   \n",
       "1    Satılık Daire     100.0    90.0        2+1              4   \n",
       "2    Satılık Daire      85.0    80.0        2+1              0   \n",
       "3    Satılık Daire     145.0   130.0        3+1              0   \n",
       "4    Satılık Daire      80.0    80.0        2+1    16-20 arası   \n",
       "\n",
       "    bulundugu_kat kat_sayisi              isitma banyo_sayisi balkon  ...  \\\n",
       "0               1          3    Doğalgaz (Kombi)            1    Var  ...   \n",
       "1    Yüksek Giriş          3    Doğalgaz (Kombi)            1    Var  ...   \n",
       "2               1          4    Doğalgaz (Kombi)            1    Var  ...   \n",
       "3               2          3    Doğalgaz (Kombi)            2    Var  ...   \n",
       "4               2          2    Doğalgaz (Kombi)            1    Var  ...   \n",
       "\n",
       "  kullanim_durumu site_icerisi         aidat_tl krediye_uygun  \\\n",
       "0             Boş        Hayır    Belirtilmemiş          Evet   \n",
       "1             Boş        Hayır                0          Evet   \n",
       "2             Boş        Hayır    Belirtilmemiş          Evet   \n",
       "3             Boş        Hayır    Belirtilmemiş          Evet   \n",
       "4     Mülk Sahibi        Hayır    Belirtilmemiş          Evet   \n",
       "\n",
       "       tapu_durumu                kimden gezilebilir     takas   konum  \\\n",
       "0    Kat İrtifaklı    İnşaat Firmasından       Hayır    Hayır   Gemlik   \n",
       "1    Kat İrtifaklı       Emlak Ofisinden        Evet     Evet   Gemlik   \n",
       "2    Kat İrtifaklı       Emlak Ofisinden       Hayır    Hayır   Gemlik   \n",
       "3    Kat İrtifaklı       Emlak Ofisinden        Evet     Evet   Gemlik   \n",
       "4    Kat İrtifaklı            Sahibinden        Evet    Hayır   Gemlik   \n",
       "\n",
       "      fiyat  \n",
       "0  355000.0  \n",
       "1  295000.0  \n",
       "2  370000.0  \n",
       "3  420000.0  \n",
       "4  280000.0  \n",
       "\n",
       "[5 rows x 21 columns]"
      ]
     },
     "execution_count": 164,
     "metadata": {},
     "output_type": "execute_result"
    }
   ],
   "source": [
    "df.head()"
   ]
  },
  {
   "cell_type": "markdown",
   "id": "4f850b00-30e7-421b-9af3-a979c3b95551",
   "metadata": {},
   "source": [
    "## her sütunun değerlerini gözlemlemek için iiçindeki değerlere bakıyoruz ve grafiğini çizdiriyoruz"
   ]
  },
  {
   "cell_type": "code",
   "execution_count": 7,
   "id": "a39df6e8-2e2c-4bad-ba20-f346501c46ae",
   "metadata": {},
   "outputs": [
    {
     "data": {
      "text/plain": [
       "Index(['emlak_tipi', 'm2_brut', 'm2_net', 'oda_sayisi', 'bina_yaşi',\n",
       "       'bulundugu_kat', 'kat_sayisi', 'isitma', 'banyo_sayisi', 'balkon',\n",
       "       'esyali', 'kullanim_durumu', 'site_icerisi', 'aidat_tl',\n",
       "       'krediye_uygun', 'tapu_durumu', 'kimden', 'gezilebilir', 'takas',\n",
       "       'konum', 'fiyat'],\n",
       "      dtype='object')"
      ]
     },
     "execution_count": 7,
     "metadata": {},
     "output_type": "execute_result"
    }
   ],
   "source": [
    "df.columns"
   ]
  },
  {
   "cell_type": "code",
   "execution_count": 166,
   "id": "3c8a3e81-4b59-42f0-9235-3e90809dc976",
   "metadata": {},
   "outputs": [
    {
     "data": {
      "text/plain": [
       "  Boş            3019\n",
       "  Mülk Sahibi    1466\n",
       "  Kiracılı        730\n",
       "Name: kullanim_durumu, dtype: int64"
      ]
     },
     "execution_count": 166,
     "metadata": {},
     "output_type": "execute_result"
    }
   ],
   "source": [
    "df.kullanim_durumu.value_counts()"
   ]
  },
  {
   "cell_type": "code",
   "execution_count": 167,
   "id": "f5ecfe4f-dbf7-4d03-aaf8-830a8220f276",
   "metadata": {},
   "outputs": [
    {
     "data": {
      "text/plain": [
       "  Satılık Daire         5141\n",
       "  Satılık Yazlık          60\n",
       "  Satılık Residence       14\n",
       "Name: emlak_tipi, dtype: int64"
      ]
     },
     "execution_count": 167,
     "metadata": {},
     "output_type": "execute_result"
    }
   ],
   "source": [
    "df.emlak_tipi.value_counts()"
   ]
  },
  {
   "cell_type": "code",
   "execution_count": 168,
   "id": "d389efce-8934-4e13-9f4d-e71dda3eb5f4",
   "metadata": {},
   "outputs": [
    {
     "data": {
      "text/plain": [
       "<AxesSubplot:>"
      ]
     },
     "execution_count": 168,
     "metadata": {},
     "output_type": "execute_result"
    },
    {
     "data": {
      "image/png": "[encoded data removed]",
      "text/plain": [
       "<Figure size 432x288 with 1 Axes>"
      ]
     },
     "metadata": {
      "needs_background": "light"
     },
     "output_type": "display_data"
    }
   ],
   "source": [
    "df.emlak_tipi.value_counts().plot.barh()"
   ]
  },
  {
   "cell_type": "code",
   "execution_count": 169,
   "id": "67b921c8-822e-4f40-843f-48fc85d402bd",
   "metadata": {},
   "outputs": [
    {
     "data": {
      "text/plain": [
       "  3+1             2289\n",
       "  2+1             1817\n",
       "  4+1              442\n",
       "  5+1              214\n",
       "  1+1              179\n",
       "  6+1               65\n",
       "  4+2               57\n",
       "  5+2               31\n",
       "  3+2               20\n",
       "  2.5+1             20\n",
       "  3.5+1             17\n",
       "  7+1               13\n",
       "  2+2               12\n",
       "  6+2                8\n",
       "  4.5+1              6\n",
       "  2+0                4\n",
       "  4+3                3\n",
       "  Stüdyo (1+0)       3\n",
       "  1.5+1              3\n",
       "  10 Üzeri           3\n",
       "  7+2                2\n",
       "  10+2               2\n",
       "  5+3                2\n",
       "  9+1                2\n",
       "  9+3                1\n",
       "Name: oda_sayisi, dtype: int64"
      ]
     },
     "execution_count": 169,
     "metadata": {},
     "output_type": "execute_result"
    }
   ],
   "source": [
    "df.oda_sayisi.value_counts()"
   ]
  },
  {
   "cell_type": "code",
   "execution_count": 170,
   "id": "9f42181b-f866-439d-8ec6-ba753d014eee",
   "metadata": {},
   "outputs": [
    {
     "data": {
      "text/plain": [
       "<AxesSubplot:>"
      ]
     },
     "execution_count": 170,
     "metadata": {},
     "output_type": "execute_result"
    },
    {
     "data": {
      "image/png": "[encoded data removed]",
      "text/plain": [
       "<Figure size 432x288 with 1 Axes>"
      ]
     },
     "metadata": {
      "needs_background": "light"
     },
     "output_type": "display_data"
    }
   ],
   "source": [
    "df.oda_sayisi.value_counts().plot.barh()"
   ]
  },
  {
   "cell_type": "code",
   "execution_count": 171,
   "id": "5895f642-8b78-4e5c-80a8-f00d7507fa6b",
   "metadata": {},
   "outputs": [
    {
     "data": {
      "text/plain": [
       "  0              1549\n",
       "  5-10 arası      857\n",
       "  21-25 arası     509\n",
       "  26-30 arası     426\n",
       "  16-20 arası     419\n",
       "  4               352\n",
       "  11-15 arası     283\n",
       "  3               241\n",
       "  1               200\n",
       "  2               191\n",
       "  31 ve üzeri     188\n",
       "Name: bina_yaşi, dtype: int64"
      ]
     },
     "execution_count": 171,
     "metadata": {},
     "output_type": "execute_result"
    }
   ],
   "source": [
    "df.bina_yaşi.value_counts()"
   ]
  },
  {
   "cell_type": "code",
   "execution_count": 172,
   "id": "6ff9796b-8e54-48f0-a43c-7e55e830e993",
   "metadata": {},
   "outputs": [
    {
     "data": {
      "text/plain": [
       "<AxesSubplot:>"
      ]
     },
     "execution_count": 172,
     "metadata": {},
     "output_type": "execute_result"
    },
    {
     "data": {
      "image/png": "[encoded data removed]",
      "text/plain": [
       "<Figure size 432x288 with 1 Axes>"
      ]
     },
     "metadata": {
      "needs_background": "light"
     },
     "output_type": "display_data"
    }
   ],
   "source": [
    "df.bina_yaşi.value_counts().plot.barh()"
   ]
  },
  {
   "cell_type": "code",
   "execution_count": 173,
   "id": "0e07fdd6-cf0c-4805-a469-eb4f4471ba14",
   "metadata": {},
   "outputs": [
    {
     "data": {
      "text/plain": [
       "  3                   956\n",
       "  2                   908\n",
       "  4                   698\n",
       "  1                   651\n",
       "  5                   536\n",
       "  Yüksek Giriş        231\n",
       "  Bahçe Katı          198\n",
       "  Giriş Katı          190\n",
       "  Zemin Kat           114\n",
       "  6                   104\n",
       "  Çatı Katı            96\n",
       "  Giriş Altı Kot 2     82\n",
       "  7                    74\n",
       "  Giriş Altı Kot 3     70\n",
       "  Giriş Altı Kot 1     52\n",
       "  Giriş Altı Kot 4     51\n",
       "  8                    42\n",
       "  Müstakil             39\n",
       "  9                    24\n",
       "  Villa Tipi           24\n",
       "  Bodrum Kat           18\n",
       "  10                   13\n",
       "  11                    7\n",
       "  13                    6\n",
       "  14                    6\n",
       "  15                    5\n",
       "  12                    5\n",
       "  16                    4\n",
       "  17                    2\n",
       "  20                    2\n",
       "  18                    2\n",
       "  19                    2\n",
       "  26                    1\n",
       "  21                    1\n",
       "  30 ve üzeri           1\n",
       "Name: bulundugu_kat, dtype: int64"
      ]
     },
     "execution_count": 173,
     "metadata": {},
     "output_type": "execute_result"
    }
   ],
   "source": [
    "df.bulundugu_kat.value_counts()"
   ]
  },
  {
   "cell_type": "code",
   "execution_count": 174,
   "id": "574c562a-dcdf-47f1-abdd-37051ee0ea3d",
   "metadata": {},
   "outputs": [
    {
     "data": {
      "text/plain": [
       "  5              1638\n",
       "  4              1338\n",
       "  3              1046\n",
       "  6               388\n",
       "  2               184\n",
       "  7               179\n",
       "  8               131\n",
       "  9                58\n",
       "  10               50\n",
       "  11               44\n",
       "  1                42\n",
       "  14               22\n",
       "  22               21\n",
       "  12               16\n",
       "  15               12\n",
       "  13               11\n",
       "  20                5\n",
       "  23                5\n",
       "  18                5\n",
       "  30 ve üzeri       5\n",
       "  16                4\n",
       "  19                4\n",
       "  21                2\n",
       "  17                1\n",
       "  24                1\n",
       "  27                1\n",
       "  28                1\n",
       "  25                1\n",
       "Name: kat_sayisi, dtype: int64"
      ]
     },
     "execution_count": 174,
     "metadata": {},
     "output_type": "execute_result"
    }
   ],
   "source": [
    "df.kat_sayisi.value_counts()"
   ]
  },
  {
   "cell_type": "code",
   "execution_count": 175,
   "id": "1e1af787-a633-4339-b4c1-b75e1e743fab",
   "metadata": {},
   "outputs": [
    {
     "data": {
      "text/plain": [
       "  Doğalgaz (Kombi)       3988\n",
       "  Yerden Isıtma           449\n",
       "  Merkezi (Pay Ölçer)     221\n",
       "  Merkezi                 148\n",
       "  Doğalgaz Sobası         124\n",
       "  Soba                    109\n",
       "  Yok                      98\n",
       "  Klima                    34\n",
       "  Kat Kaloriferi           26\n",
       "  Isı Pompası              14\n",
       "  Şömine                    2\n",
       "  Güneş Enerjisi            2\n",
       "Name: isitma, dtype: int64"
      ]
     },
     "execution_count": 175,
     "metadata": {},
     "output_type": "execute_result"
    }
   ],
   "source": [
    "df.isitma.value_counts()"
   ]
  },
  {
   "cell_type": "code",
   "execution_count": 176,
   "id": "683c64fb-363f-43f1-b107-c5d43a037ce7",
   "metadata": {},
   "outputs": [
    {
     "data": {
      "text/plain": [
       "<AxesSubplot:>"
      ]
     },
     "execution_count": 176,
     "metadata": {},
     "output_type": "execute_result"
    },
    {
     "data": {
      "image/png": "[encoded data removed]",
      "text/plain": [
       "<Figure size 432x288 with 1 Axes>"
      ]
     },
     "metadata": {
      "needs_background": "light"
     },
     "output_type": "display_data"
    }
   ],
   "source": [
    "df.isitma.value_counts().plot.barh()"
   ]
  },
  {
   "cell_type": "code",
   "execution_count": 177,
   "id": "e30394a7-71dd-4c81-8443-455802f446f2",
   "metadata": {},
   "outputs": [
    {
     "data": {
      "text/plain": [
       "  1          3031\n",
       "  2          1848\n",
       "  3           255\n",
       "  4            67\n",
       "  Yok           6\n",
       "  5             3\n",
       "  6             3\n",
       "  6 Üzeri       2\n",
       "Name: banyo_sayisi, dtype: int64"
      ]
     },
     "execution_count": 177,
     "metadata": {},
     "output_type": "execute_result"
    }
   ],
   "source": [
    "df.banyo_sayisi.value_counts()"
   ]
  },
  {
   "cell_type": "code",
   "execution_count": 178,
   "id": "0df7d1d0-44bc-4c28-8ff1-aacbd474daa5",
   "metadata": {},
   "outputs": [
    {
     "data": {
      "text/plain": [
       "<AxesSubplot:>"
      ]
     },
     "execution_count": 178,
     "metadata": {},
     "output_type": "execute_result"
    },
    {
     "data": {
      "image/png": "[encoded data removed]",
      "text/plain": [
       "<Figure size 432x288 with 1 Axes>"
      ]
     },
     "metadata": {
      "needs_background": "light"
     },
     "output_type": "display_data"
    }
   ],
   "source": [
    "df.banyo_sayisi.value_counts().plot.barh()"
   ]
  },
  {
   "cell_type": "code",
   "execution_count": 179,
   "id": "9eb37e84-dffd-4408-b24d-3c307e939286",
   "metadata": {},
   "outputs": [
    {
     "data": {
      "text/plain": [
       "  Var    4943\n",
       "  Yok     272\n",
       "Name: balkon, dtype: int64"
      ]
     },
     "execution_count": 179,
     "metadata": {},
     "output_type": "execute_result"
    }
   ],
   "source": [
    "df.balkon.value_counts()"
   ]
  },
  {
   "cell_type": "code",
   "execution_count": 180,
   "id": "6b61e691-fe4a-4a21-8ea5-4f2e21fbd5e4",
   "metadata": {},
   "outputs": [
    {
     "data": {
      "text/plain": [
       "<AxesSubplot:>"
      ]
     },
     "execution_count": 180,
     "metadata": {},
     "output_type": "execute_result"
    },
    {
     "data": {
      "image/png": "[encoded data removed]",
      "text/plain": [
       "<Figure size 432x288 with 1 Axes>"
      ]
     },
     "metadata": {
      "needs_background": "light"
     },
     "output_type": "display_data"
    }
   ],
   "source": [
    "df.balkon.value_counts().plot.barh()"
   ]
  },
  {
   "cell_type": "code",
   "execution_count": 181,
   "id": "922f8b01-dea7-4212-8bf4-112a9de840c1",
   "metadata": {},
   "outputs": [
    {
     "data": {
      "text/plain": [
       "  Hayır            4584\n",
       "  Evet              389\n",
       "  Belirtilmemiş     242\n",
       "Name: esyali, dtype: int64"
      ]
     },
     "execution_count": 181,
     "metadata": {},
     "output_type": "execute_result"
    }
   ],
   "source": [
    "df.esyali.value_counts()"
   ]
  },
  {
   "cell_type": "code",
   "execution_count": 182,
   "id": "7cd1ca17-8758-4c5e-8a50-834602189374",
   "metadata": {},
   "outputs": [
    {
     "data": {
      "text/plain": [
       "<AxesSubplot:>"
      ]
     },
     "execution_count": 182,
     "metadata": {},
     "output_type": "execute_result"
    },
    {
     "data": {
      "image/png": "[encoded data removed]",
      "text/plain": [
       "<Figure size 432x288 with 1 Axes>"
      ]
     },
     "metadata": {
      "needs_background": "light"
     },
     "output_type": "display_data"
    }
   ],
   "source": [
    "df.esyali.value_counts().plot.barh()"
   ]
  },
  {
   "cell_type": "code",
   "execution_count": 183,
   "id": "75fe5d82-00fb-439f-b5be-de062f162458",
   "metadata": {},
   "outputs": [
    {
     "data": {
      "text/plain": [
       "  Hayır            3562\n",
       "  Evet             1651\n",
       "  Belirtilmemiş       2\n",
       "Name: site_icerisi, dtype: int64"
      ]
     },
     "execution_count": 183,
     "metadata": {},
     "output_type": "execute_result"
    }
   ],
   "source": [
    "df.site_icerisi.value_counts()"
   ]
  },
  {
   "cell_type": "code",
   "execution_count": 184,
   "id": "7875aba8-bb86-4df4-9d05-a7e1cb65d9fb",
   "metadata": {},
   "outputs": [
    {
     "data": {
      "text/plain": [
       "<AxesSubplot:>"
      ]
     },
     "execution_count": 184,
     "metadata": {},
     "output_type": "execute_result"
    },
    {
     "data": {
      "image/png": "[encoded data removed]",
      "text/plain": [
       "<Figure size 432x288 with 1 Axes>"
      ]
     },
     "metadata": {
      "needs_background": "light"
     },
     "output_type": "display_data"
    }
   ],
   "source": [
    "df.site_icerisi.value_counts().plot.barh()"
   ]
  },
  {
   "cell_type": "code",
   "execution_count": 185,
   "id": "5cdc34a4-6278-4e97-998f-b5dd16071a42",
   "metadata": {},
   "outputs": [
    {
     "data": {
      "text/plain": [
       "  Evet             4527\n",
       "  Hayır             457\n",
       "  Belirtilmemiş     231\n",
       "Name: krediye_uygun, dtype: int64"
      ]
     },
     "execution_count": 185,
     "metadata": {},
     "output_type": "execute_result"
    }
   ],
   "source": [
    "df.krediye_uygun.value_counts()"
   ]
  },
  {
   "cell_type": "code",
   "execution_count": 186,
   "id": "192580f1-e985-4db1-83e0-6d266ccb7183",
   "metadata": {},
   "outputs": [
    {
     "data": {
      "text/plain": [
       "<AxesSubplot:>"
      ]
     },
     "execution_count": 186,
     "metadata": {},
     "output_type": "execute_result"
    },
    {
     "data": {
      "image/png": "[encoded data removed]",
      "text/plain": [
       "<Figure size 432x288 with 1 Axes>"
      ]
     },
     "metadata": {
      "needs_background": "light"
     },
     "output_type": "display_data"
    }
   ],
   "source": [
    "df.krediye_uygun.value_counts().plot.barh()"
   ]
  },
  {
   "cell_type": "code",
   "execution_count": 187,
   "id": "e7add4f8-5fe2-4ca0-af45-baf6854e60ee",
   "metadata": {},
   "outputs": [
    {
     "data": {
      "text/plain": [
       "  Kat Mülkiyetli    2584\n",
       "  Kat İrtifaklı     1605\n",
       "  Belirtilmemiş      696\n",
       "  Bilinmiyor         281\n",
       "  Hisseli             49\n",
       "Name: tapu_durumu, dtype: int64"
      ]
     },
     "execution_count": 187,
     "metadata": {},
     "output_type": "execute_result"
    }
   ],
   "source": [
    "df.tapu_durumu.value_counts()"
   ]
  },
  {
   "cell_type": "code",
   "execution_count": 188,
   "id": "8335fbdc-99b2-4d79-bd0d-8a20cbdeae26",
   "metadata": {},
   "outputs": [
    {
     "data": {
      "text/plain": [
       "<AxesSubplot:>"
      ]
     },
     "execution_count": 188,
     "metadata": {},
     "output_type": "execute_result"
    },
    {
     "data": {
      "image/png": "[encoded data removed]",
      "text/plain": [
       "<Figure size 432x288 with 1 Axes>"
      ]
     },
     "metadata": {
      "needs_background": "light"
     },
     "output_type": "display_data"
    }
   ],
   "source": [
    "df.tapu_durumu.value_counts().plot.barh()"
   ]
  },
  {
   "cell_type": "code",
   "execution_count": 189,
   "id": "09b3fe5b-be61-49b0-b851-72024ecb4722",
   "metadata": {},
   "outputs": [
    {
     "data": {
      "text/plain": [
       "  Emlak Ofisinden       3857\n",
       "  Sahibinden             951\n",
       "  İnşaat Firmasından     400\n",
       "  Bankadan                 7\n",
       "Name: kimden, dtype: int64"
      ]
     },
     "execution_count": 189,
     "metadata": {},
     "output_type": "execute_result"
    }
   ],
   "source": [
    "df.kimden.value_counts()"
   ]
  },
  {
   "cell_type": "code",
   "execution_count": 190,
   "id": "8f64b113-e0af-4356-bd07-6489607b9787",
   "metadata": {},
   "outputs": [
    {
     "data": {
      "text/plain": [
       "<AxesSubplot:>"
      ]
     },
     "execution_count": 190,
     "metadata": {},
     "output_type": "execute_result"
    },
    {
     "data": {
      "image/png": "[encoded data removed]",
      "text/plain": [
       "<Figure size 432x288 with 1 Axes>"
      ]
     },
     "metadata": {
      "needs_background": "light"
     },
     "output_type": "display_data"
    }
   ],
   "source": [
    "df.kimden.value_counts().plot.barh()"
   ]
  },
  {
   "cell_type": "code",
   "execution_count": 191,
   "id": "64f54d1a-7fa2-48c8-91f1-2ac2260abf93",
   "metadata": {},
   "outputs": [
    {
     "data": {
      "text/plain": [
       "  Hayır    3309\n",
       "  Evet     1906\n",
       "Name: gezilebilir, dtype: int64"
      ]
     },
     "execution_count": 191,
     "metadata": {},
     "output_type": "execute_result"
    }
   ],
   "source": [
    "df.gezilebilir.value_counts()"
   ]
  },
  {
   "cell_type": "code",
   "execution_count": 192,
   "id": "e1c39535-5281-4d12-890d-bb6e1d0ae87d",
   "metadata": {},
   "outputs": [
    {
     "data": {
      "text/plain": [
       "<AxesSubplot:>"
      ]
     },
     "execution_count": 192,
     "metadata": {},
     "output_type": "execute_result"
    },
    {
     "data": {
      "image/png": "[encoded data removed]",
      "text/plain": [
       "<Figure size 432x288 with 1 Axes>"
      ]
     },
     "metadata": {
      "needs_background": "light"
     },
     "output_type": "display_data"
    }
   ],
   "source": [
    "df.gezilebilir.value_counts().plot.barh()"
   ]
  },
  {
   "cell_type": "code",
   "execution_count": 193,
   "id": "af5b96ec-8974-4b5e-8365-93b8ec4b242b",
   "metadata": {},
   "outputs": [
    {
     "data": {
      "text/plain": [
       "  Hayır     3913\n",
       "  Evet      1302\n",
       "Name: takas, dtype: int64"
      ]
     },
     "execution_count": 193,
     "metadata": {},
     "output_type": "execute_result"
    }
   ],
   "source": [
    "df.takas.value_counts()"
   ]
  },
  {
   "cell_type": "code",
   "execution_count": 194,
   "id": "ca86b9cf-c124-40fd-92d8-5c4ba3d0a3ec",
   "metadata": {},
   "outputs": [
    {
     "data": {
      "text/plain": [
       "<AxesSubplot:>"
      ]
     },
     "execution_count": 194,
     "metadata": {},
     "output_type": "execute_result"
    },
    {
     "data": {
      "image/png": "[encoded data removed]",
      "text/plain": [
       "<Figure size 432x288 with 1 Axes>"
      ]
     },
     "metadata": {
      "needs_background": "light"
     },
     "output_type": "display_data"
    }
   ],
   "source": [
    "df.takas.value_counts().plot.barh()"
   ]
  },
  {
   "cell_type": "code",
   "execution_count": 195,
   "id": "aa66a5c6-6e53-4241-8e9c-beacd388bae2",
   "metadata": {},
   "outputs": [
    {
     "data": {
      "text/plain": [
       "Nilüfer             803\n",
       "Osmangazi           766\n",
       "Yıldırım            753\n",
       "Mudanya             702\n",
       "Gemlik              577\n",
       "İnegöl              400\n",
       "Karacabey           334\n",
       "Kestel              261\n",
       "Orhangazi           193\n",
       "Mustafakemalpaşa    177\n",
       "Gürsu               156\n",
       "Yenişehir            89\n",
       "Orhaneli              4\n",
       "Name: konum, dtype: int64"
      ]
     },
     "execution_count": 195,
     "metadata": {},
     "output_type": "execute_result"
    }
   ],
   "source": [
    "df.konum.value_counts()"
   ]
  },
  {
   "cell_type": "code",
   "execution_count": 196,
   "id": "4e055941-4540-47dc-9b46-b73641ef0ddc",
   "metadata": {},
   "outputs": [
    {
     "data": {
      "text/plain": [
       "<AxesSubplot:>"
      ]
     },
     "execution_count": 196,
     "metadata": {},
     "output_type": "execute_result"
    },
    {
     "data": {
      "image/png": "[encoded data removed]",
      "text/plain": [
       "<Figure size 432x288 with 1 Axes>"
      ]
     },
     "metadata": {
      "needs_background": "light"
     },
     "output_type": "display_data"
    }
   ],
   "source": [
    "df.konum.value_counts().plot.barh()"
   ]
  },
  {
   "cell_type": "code",
   "execution_count": 197,
   "id": "52f226cd-eba6-4147-b1c2-10adf4f4c0c3",
   "metadata": {},
   "outputs": [
    {
     "data": {
      "text/plain": [
       "<AxesSubplot:xlabel='fiyat', ylabel='m2_net'>"
      ]
     },
     "execution_count": 197,
     "metadata": {},
     "output_type": "execute_result"
    },
    {
     "data": {
      "image/png": "[encoded data removed]",
      "text/plain": [
       "<Figure size 432x288 with 1 Axes>"
      ]
     },
     "metadata": {
      "needs_background": "light"
     },
     "output_type": "display_data"
    }
   ],
   "source": [
    "sns.barplot(x='fiyat', y='m2_net',hue=\"konum\", data=df)"
   ]
  },
  {
   "cell_type": "code",
   "execution_count": 198,
   "id": "fe29f592-a183-4a36-9e48-57faf501db40",
   "metadata": {},
   "outputs": [
    {
     "data": {
      "text/plain": [
       "<AxesSubplot:xlabel='fiyat', ylabel='konum'>"
      ]
     },
     "execution_count": 198,
     "metadata": {},
     "output_type": "execute_result"
    },
    {
     "data": {
      "image/png": "[encoded data removed]",
      "text/plain": [
       "<Figure size 432x288 with 1 Axes>"
      ]
     },
     "metadata": {
      "needs_background": "light"
     },
     "output_type": "display_data"
    }
   ],
   "source": [
    "sns.barplot(x='fiyat', y='konum', data=df)"
   ]
  },
  {
   "cell_type": "code",
   "execution_count": 199,
   "id": "1efc1be2-6188-4a72-a3e4-39c732ea308c",
   "metadata": {},
   "outputs": [
    {
     "data": {
      "text/plain": [
       "konum             emlak_tipi          \n",
       "Gemlik              Satılık Daire         377788.806084\n",
       "                    Satılık Yazlık        457825.000000\n",
       "Gürsu               Satılık Daire         440622.935484\n",
       "Karacabey           Satılık Daire         351131.184818\n",
       "                    Satılık Yazlık        435000.000000\n",
       "Kestel              Satılık Daire         454211.240310\n",
       "Mudanya             Satılık Daire         548418.464351\n",
       "                    Satılık Residence     510000.000000\n",
       "                    Satılık Yazlık        462142.857143\n",
       "Mustafakemalpaşa    Satılık Daire         356315.340909\n",
       "Nilüfer             Satılık Daire         532612.667176\n",
       "                    Satılık Residence     437500.000000\n",
       "Orhaneli            Satılık Daire         253333.333333\n",
       "                    Satılık Yazlık                  NaN\n",
       "Orhangazi           Satılık Daire         362763.020833\n",
       "                    Satılık Yazlık                  NaN\n",
       "Osmangazi           Satılık Daire         452379.338843\n",
       "                    Satılık Residence     746666.666667\n",
       "Yenişehir           Satılık Daire         357832.943182\n",
       "Yıldırım            Satılık Daire         403234.971311\n",
       "İnegöl              Satılık Daire         491291.987080\n",
       "Name: fiyat, dtype: float64"
      ]
     },
     "execution_count": 199,
     "metadata": {},
     "output_type": "execute_result"
    }
   ],
   "source": [
    "df.groupby([\"konum\",\"emlak_tipi\"])[\"fiyat\"].mean()"
   ]
  },
  {
   "cell_type": "code",
   "execution_count": 200,
   "id": "d7e0c0c3-41c9-4162-bc94-d45cbf6f3ce3",
   "metadata": {},
   "outputs": [],
   "source": [
    "#veri düzenleme"
   ]
  },
  {
   "cell_type": "code",
   "execution_count": 8,
   "id": "f800e1a1-e7a7-4e91-b90d-b8b20150be4c",
   "metadata": {},
   "outputs": [],
   "source": [
    "df.dropna(inplace=True)"
   ]
  },
  {
   "cell_type": "code",
   "execution_count": 9,
   "id": "b71c00fb-ed68-48ae-b6ad-7b285264712b",
   "metadata": {},
   "outputs": [
    {
     "data": {
      "text/html": [
       "<div>\n",
       "<style scoped>\n",
       "    .dataframe tbody tr th:only-of-type {\n",
       "        vertical-align: middle;\n",
       "    }\n",
       "\n",
       "    .dataframe tbody tr th {\n",
       "        vertical-align: top;\n",
       "    }\n",
       "\n",
       "    .dataframe thead th {\n",
       "        text-align: right;\n",
       "    }\n",
       "</style>\n",
       "<table border=\"1\" class=\"dataframe\">\n",
       "  <thead>\n",
       "    <tr style=\"text-align: right;\">\n",
       "      <th></th>\n",
       "      <th>emlak_tipi</th>\n",
       "      <th>m2_brut</th>\n",
       "      <th>m2_net</th>\n",
       "      <th>oda_sayisi</th>\n",
       "      <th>bina_yaşi</th>\n",
       "      <th>bulundugu_kat</th>\n",
       "      <th>kat_sayisi</th>\n",
       "      <th>isitma</th>\n",
       "      <th>banyo_sayisi</th>\n",
       "      <th>balkon</th>\n",
       "      <th>...</th>\n",
       "      <th>kullanim_durumu</th>\n",
       "      <th>site_icerisi</th>\n",
       "      <th>aidat_tl</th>\n",
       "      <th>krediye_uygun</th>\n",
       "      <th>tapu_durumu</th>\n",
       "      <th>kimden</th>\n",
       "      <th>gezilebilir</th>\n",
       "      <th>takas</th>\n",
       "      <th>konum</th>\n",
       "      <th>fiyat</th>\n",
       "    </tr>\n",
       "  </thead>\n",
       "  <tbody>\n",
       "    <tr>\n",
       "      <th>0</th>\n",
       "      <td>Satılık Daire</td>\n",
       "      <td>110.0</td>\n",
       "      <td>100.0</td>\n",
       "      <td>2+1</td>\n",
       "      <td>0</td>\n",
       "      <td>1</td>\n",
       "      <td>3</td>\n",
       "      <td>Doğalgaz (Kombi)</td>\n",
       "      <td>1</td>\n",
       "      <td>Var</td>\n",
       "      <td>...</td>\n",
       "      <td>Boş</td>\n",
       "      <td>Hayır</td>\n",
       "      <td>Belirtilmemiş</td>\n",
       "      <td>Evet</td>\n",
       "      <td>Kat İrtifaklı</td>\n",
       "      <td>İnşaat Firmasından</td>\n",
       "      <td>Hayır</td>\n",
       "      <td>Hayır</td>\n",
       "      <td>Gemlik</td>\n",
       "      <td>355000.0</td>\n",
       "    </tr>\n",
       "    <tr>\n",
       "      <th>1</th>\n",
       "      <td>Satılık Daire</td>\n",
       "      <td>100.0</td>\n",
       "      <td>90.0</td>\n",
       "      <td>2+1</td>\n",
       "      <td>4</td>\n",
       "      <td>Yüksek Giriş</td>\n",
       "      <td>3</td>\n",
       "      <td>Doğalgaz (Kombi)</td>\n",
       "      <td>1</td>\n",
       "      <td>Var</td>\n",
       "      <td>...</td>\n",
       "      <td>Boş</td>\n",
       "      <td>Hayır</td>\n",
       "      <td>0</td>\n",
       "      <td>Evet</td>\n",
       "      <td>Kat İrtifaklı</td>\n",
       "      <td>Emlak Ofisinden</td>\n",
       "      <td>Evet</td>\n",
       "      <td>Evet</td>\n",
       "      <td>Gemlik</td>\n",
       "      <td>295000.0</td>\n",
       "    </tr>\n",
       "    <tr>\n",
       "      <th>2</th>\n",
       "      <td>Satılık Daire</td>\n",
       "      <td>85.0</td>\n",
       "      <td>80.0</td>\n",
       "      <td>2+1</td>\n",
       "      <td>0</td>\n",
       "      <td>1</td>\n",
       "      <td>4</td>\n",
       "      <td>Doğalgaz (Kombi)</td>\n",
       "      <td>1</td>\n",
       "      <td>Var</td>\n",
       "      <td>...</td>\n",
       "      <td>Boş</td>\n",
       "      <td>Hayır</td>\n",
       "      <td>Belirtilmemiş</td>\n",
       "      <td>Evet</td>\n",
       "      <td>Kat İrtifaklı</td>\n",
       "      <td>Emlak Ofisinden</td>\n",
       "      <td>Hayır</td>\n",
       "      <td>Hayır</td>\n",
       "      <td>Gemlik</td>\n",
       "      <td>370000.0</td>\n",
       "    </tr>\n",
       "    <tr>\n",
       "      <th>3</th>\n",
       "      <td>Satılık Daire</td>\n",
       "      <td>145.0</td>\n",
       "      <td>130.0</td>\n",
       "      <td>3+1</td>\n",
       "      <td>0</td>\n",
       "      <td>2</td>\n",
       "      <td>3</td>\n",
       "      <td>Doğalgaz (Kombi)</td>\n",
       "      <td>2</td>\n",
       "      <td>Var</td>\n",
       "      <td>...</td>\n",
       "      <td>Boş</td>\n",
       "      <td>Hayır</td>\n",
       "      <td>Belirtilmemiş</td>\n",
       "      <td>Evet</td>\n",
       "      <td>Kat İrtifaklı</td>\n",
       "      <td>Emlak Ofisinden</td>\n",
       "      <td>Evet</td>\n",
       "      <td>Evet</td>\n",
       "      <td>Gemlik</td>\n",
       "      <td>420000.0</td>\n",
       "    </tr>\n",
       "    <tr>\n",
       "      <th>4</th>\n",
       "      <td>Satılık Daire</td>\n",
       "      <td>80.0</td>\n",
       "      <td>80.0</td>\n",
       "      <td>2+1</td>\n",
       "      <td>16-20 arası</td>\n",
       "      <td>2</td>\n",
       "      <td>2</td>\n",
       "      <td>Doğalgaz (Kombi)</td>\n",
       "      <td>1</td>\n",
       "      <td>Var</td>\n",
       "      <td>...</td>\n",
       "      <td>Mülk Sahibi</td>\n",
       "      <td>Hayır</td>\n",
       "      <td>Belirtilmemiş</td>\n",
       "      <td>Evet</td>\n",
       "      <td>Kat İrtifaklı</td>\n",
       "      <td>Sahibinden</td>\n",
       "      <td>Evet</td>\n",
       "      <td>Hayır</td>\n",
       "      <td>Gemlik</td>\n",
       "      <td>280000.0</td>\n",
       "    </tr>\n",
       "    <tr>\n",
       "      <th>...</th>\n",
       "      <td>...</td>\n",
       "      <td>...</td>\n",
       "      <td>...</td>\n",
       "      <td>...</td>\n",
       "      <td>...</td>\n",
       "      <td>...</td>\n",
       "      <td>...</td>\n",
       "      <td>...</td>\n",
       "      <td>...</td>\n",
       "      <td>...</td>\n",
       "      <td>...</td>\n",
       "      <td>...</td>\n",
       "      <td>...</td>\n",
       "      <td>...</td>\n",
       "      <td>...</td>\n",
       "      <td>...</td>\n",
       "      <td>...</td>\n",
       "      <td>...</td>\n",
       "      <td>...</td>\n",
       "      <td>...</td>\n",
       "      <td>...</td>\n",
       "    </tr>\n",
       "    <tr>\n",
       "      <th>4806</th>\n",
       "      <td>Satılık Daire</td>\n",
       "      <td>170.0</td>\n",
       "      <td>152.0</td>\n",
       "      <td>4+1</td>\n",
       "      <td>1</td>\n",
       "      <td>3</td>\n",
       "      <td>3</td>\n",
       "      <td>Doğalgaz (Kombi)</td>\n",
       "      <td>2</td>\n",
       "      <td>Var</td>\n",
       "      <td>...</td>\n",
       "      <td>Mülk Sahibi</td>\n",
       "      <td>Hayır</td>\n",
       "      <td>Belirtilmemiş</td>\n",
       "      <td>Evet</td>\n",
       "      <td>Kat Mülkiyetli</td>\n",
       "      <td>Emlak Ofisinden</td>\n",
       "      <td>Evet</td>\n",
       "      <td>Hayır</td>\n",
       "      <td>Yıldırım</td>\n",
       "      <td>550000.0</td>\n",
       "    </tr>\n",
       "    <tr>\n",
       "      <th>4807</th>\n",
       "      <td>Satılık Daire</td>\n",
       "      <td>135.0</td>\n",
       "      <td>120.0</td>\n",
       "      <td>3+1</td>\n",
       "      <td>16-20 arası</td>\n",
       "      <td>5</td>\n",
       "      <td>8</td>\n",
       "      <td>Doğalgaz (Kombi)</td>\n",
       "      <td>1</td>\n",
       "      <td>Var</td>\n",
       "      <td>...</td>\n",
       "      <td>Mülk Sahibi</td>\n",
       "      <td>Evet</td>\n",
       "      <td>40</td>\n",
       "      <td>Evet</td>\n",
       "      <td>Belirtilmemiş</td>\n",
       "      <td>Emlak Ofisinden</td>\n",
       "      <td>Evet</td>\n",
       "      <td>Hayır</td>\n",
       "      <td>Yıldırım</td>\n",
       "      <td>420000.0</td>\n",
       "    </tr>\n",
       "    <tr>\n",
       "      <th>4808</th>\n",
       "      <td>Satılık Daire</td>\n",
       "      <td>90.0</td>\n",
       "      <td>80.0</td>\n",
       "      <td>2+1</td>\n",
       "      <td>21-25 arası</td>\n",
       "      <td>Yüksek Giriş</td>\n",
       "      <td>5</td>\n",
       "      <td>Doğalgaz (Kombi)</td>\n",
       "      <td>1</td>\n",
       "      <td>Var</td>\n",
       "      <td>...</td>\n",
       "      <td>Kiracılı</td>\n",
       "      <td>Hayır</td>\n",
       "      <td>30</td>\n",
       "      <td>Evet</td>\n",
       "      <td>Belirtilmemiş</td>\n",
       "      <td>Emlak Ofisinden</td>\n",
       "      <td>Hayır</td>\n",
       "      <td>Hayır</td>\n",
       "      <td>Yıldırım</td>\n",
       "      <td>225000.0</td>\n",
       "    </tr>\n",
       "    <tr>\n",
       "      <th>4809</th>\n",
       "      <td>Satılık Daire</td>\n",
       "      <td>105.0</td>\n",
       "      <td>95.0</td>\n",
       "      <td>2+1</td>\n",
       "      <td>11-15 arası</td>\n",
       "      <td>1</td>\n",
       "      <td>4</td>\n",
       "      <td>Doğalgaz (Kombi)</td>\n",
       "      <td>1</td>\n",
       "      <td>Var</td>\n",
       "      <td>...</td>\n",
       "      <td>Boş</td>\n",
       "      <td>Hayır</td>\n",
       "      <td>Belirtilmemiş</td>\n",
       "      <td>Evet</td>\n",
       "      <td>Belirtilmemiş</td>\n",
       "      <td>Emlak Ofisinden</td>\n",
       "      <td>Hayır</td>\n",
       "      <td>Hayır</td>\n",
       "      <td>Yıldırım</td>\n",
       "      <td>220000.0</td>\n",
       "    </tr>\n",
       "    <tr>\n",
       "      <th>4810</th>\n",
       "      <td>Satılık Daire</td>\n",
       "      <td>110.0</td>\n",
       "      <td>100.0</td>\n",
       "      <td>2+1</td>\n",
       "      <td>31 ve üzeri</td>\n",
       "      <td>5</td>\n",
       "      <td>5</td>\n",
       "      <td>Merkezi</td>\n",
       "      <td>1</td>\n",
       "      <td>Var</td>\n",
       "      <td>...</td>\n",
       "      <td>Mülk Sahibi</td>\n",
       "      <td>Hayır</td>\n",
       "      <td>50</td>\n",
       "      <td>Evet</td>\n",
       "      <td>Belirtilmemiş</td>\n",
       "      <td>Emlak Ofisinden</td>\n",
       "      <td>Evet</td>\n",
       "      <td>Hayır</td>\n",
       "      <td>Yıldırım</td>\n",
       "      <td>294000.0</td>\n",
       "    </tr>\n",
       "  </tbody>\n",
       "</table>\n",
       "<p>4811 rows × 21 columns</p>\n",
       "</div>"
      ],
      "text/plain": [
       "            emlak_tipi  m2_brut  m2_net oda_sayisi      bina_yaşi  \\\n",
       "0       Satılık Daire     110.0   100.0        2+1              0   \n",
       "1       Satılık Daire     100.0    90.0        2+1              4   \n",
       "2       Satılık Daire      85.0    80.0        2+1              0   \n",
       "3       Satılık Daire     145.0   130.0        3+1              0   \n",
       "4       Satılık Daire      80.0    80.0        2+1    16-20 arası   \n",
       "...                ...      ...     ...        ...            ...   \n",
       "4806    Satılık Daire     170.0   152.0        4+1              1   \n",
       "4807    Satılık Daire     135.0   120.0        3+1    16-20 arası   \n",
       "4808    Satılık Daire      90.0    80.0        2+1    21-25 arası   \n",
       "4809    Satılık Daire     105.0    95.0        2+1    11-15 arası   \n",
       "4810    Satılık Daire     110.0   100.0        2+1    31 ve üzeri   \n",
       "\n",
       "       bulundugu_kat kat_sayisi              isitma banyo_sayisi balkon  ...  \\\n",
       "0                  1          3    Doğalgaz (Kombi)            1    Var  ...   \n",
       "1       Yüksek Giriş          3    Doğalgaz (Kombi)            1    Var  ...   \n",
       "2                  1          4    Doğalgaz (Kombi)            1    Var  ...   \n",
       "3                  2          3    Doğalgaz (Kombi)            2    Var  ...   \n",
       "4                  2          2    Doğalgaz (Kombi)            1    Var  ...   \n",
       "...              ...        ...                 ...          ...    ...  ...   \n",
       "4806               3          3    Doğalgaz (Kombi)            2    Var  ...   \n",
       "4807               5          8    Doğalgaz (Kombi)            1    Var  ...   \n",
       "4808    Yüksek Giriş          5    Doğalgaz (Kombi)            1    Var  ...   \n",
       "4809               1          4    Doğalgaz (Kombi)            1    Var  ...   \n",
       "4810               5          5             Merkezi            1    Var  ...   \n",
       "\n",
       "     kullanim_durumu site_icerisi         aidat_tl krediye_uygun  \\\n",
       "0                Boş        Hayır    Belirtilmemiş          Evet   \n",
       "1                Boş        Hayır                0          Evet   \n",
       "2                Boş        Hayır    Belirtilmemiş          Evet   \n",
       "3                Boş        Hayır    Belirtilmemiş          Evet   \n",
       "4        Mülk Sahibi        Hayır    Belirtilmemiş          Evet   \n",
       "...              ...          ...              ...           ...   \n",
       "4806     Mülk Sahibi        Hayır    Belirtilmemiş          Evet   \n",
       "4807     Mülk Sahibi         Evet               40          Evet   \n",
       "4808        Kiracılı        Hayır               30          Evet   \n",
       "4809             Boş        Hayır    Belirtilmemiş          Evet   \n",
       "4810     Mülk Sahibi        Hayır               50          Evet   \n",
       "\n",
       "           tapu_durumu                kimden gezilebilir     takas     konum  \\\n",
       "0        Kat İrtifaklı    İnşaat Firmasından       Hayır    Hayır     Gemlik   \n",
       "1        Kat İrtifaklı       Emlak Ofisinden        Evet     Evet     Gemlik   \n",
       "2        Kat İrtifaklı       Emlak Ofisinden       Hayır    Hayır     Gemlik   \n",
       "3        Kat İrtifaklı       Emlak Ofisinden        Evet     Evet     Gemlik   \n",
       "4        Kat İrtifaklı            Sahibinden        Evet    Hayır     Gemlik   \n",
       "...                ...                   ...         ...       ...       ...   \n",
       "4806    Kat Mülkiyetli       Emlak Ofisinden        Evet    Hayır   Yıldırım   \n",
       "4807     Belirtilmemiş       Emlak Ofisinden        Evet    Hayır   Yıldırım   \n",
       "4808     Belirtilmemiş       Emlak Ofisinden       Hayır    Hayır   Yıldırım   \n",
       "4809     Belirtilmemiş       Emlak Ofisinden       Hayır    Hayır   Yıldırım   \n",
       "4810     Belirtilmemiş       Emlak Ofisinden        Evet    Hayır   Yıldırım   \n",
       "\n",
       "         fiyat  \n",
       "0     355000.0  \n",
       "1     295000.0  \n",
       "2     370000.0  \n",
       "3     420000.0  \n",
       "4     280000.0  \n",
       "...        ...  \n",
       "4806  550000.0  \n",
       "4807  420000.0  \n",
       "4808  225000.0  \n",
       "4809  220000.0  \n",
       "4810  294000.0  \n",
       "\n",
       "[4811 rows x 21 columns]"
      ]
     },
     "execution_count": 9,
     "metadata": {},
     "output_type": "execute_result"
    }
   ],
   "source": [
    "df = df.reset_index()\n",
    "df.drop(\"index\", axis = 1, inplace = True)\n",
    "df"
   ]
  },
  {
   "cell_type": "code",
   "execution_count": 10,
   "id": "2e8c7861-f666-4fe2-8508-d4c1d4e8fb17",
   "metadata": {},
   "outputs": [],
   "source": [
    "df1=df.copy()"
   ]
  },
  {
   "cell_type": "code",
   "execution_count": 11,
   "id": "df3cb06a-01f8-4214-9c0b-65bfb7e74c67",
   "metadata": {},
   "outputs": [
    {
     "data": {
      "text/plain": [
       "(4811, 21)"
      ]
     },
     "execution_count": 11,
     "metadata": {},
     "output_type": "execute_result"
    }
   ],
   "source": [
    "df1.shape"
   ]
  },
  {
   "cell_type": "code",
   "execution_count": 12,
   "id": "f79e159a-cfcb-4103-9216-a6518361be4b",
   "metadata": {},
   "outputs": [
    {
     "data": {
      "text/plain": [
       "Index(['emlak_tipi', 'm2_brut', 'm2_net', 'oda_sayisi', 'bina_yaşi',\n",
       "       'bulundugu_kat', 'kat_sayisi', 'isitma', 'banyo_sayisi', 'balkon',\n",
       "       'esyali', 'kullanim_durumu', 'site_icerisi', 'aidat_tl',\n",
       "       'krediye_uygun', 'tapu_durumu', 'kimden', 'gezilebilir', 'takas',\n",
       "       'konum', 'fiyat'],\n",
       "      dtype='object')"
      ]
     },
     "execution_count": 12,
     "metadata": {},
     "output_type": "execute_result"
    }
   ],
   "source": [
    "df1.columns"
   ]
  },
  {
   "cell_type": "code",
   "execution_count": 4,
   "id": "fe743740-9f01-4373-8928-86118ef44933",
   "metadata": {},
   "outputs": [],
   "source": [
    "#verilerin silinmesi"
   ]
  },
  {
   "cell_type": "markdown",
   "id": "06c41348-4135-4cd4-b3c3-ce4a3ea54add",
   "metadata": {},
   "source": [
    "makine öğrenmesinde gereksiz olan sütunları kaldırıyoruz burda bazı sütunları kaldrımamızın sebebi ise veri \n",
    "görselleştirme kısmında gördüğümüz eksik değerler oldu.Bu değerleri istatiksel olarak da doldurulabilir \n",
    "ama fiyat üstünde çok etkinliği olmadığı için kaldırmayı seçiyorum"
   ]
  },
  {
   "cell_type": "code",
   "execution_count": null,
   "id": "0af85185-97b6-4404-8f46-a139deef6293",
   "metadata": {},
   "outputs": [],
   "source": [
    "df1.drop(\"aidat_tl\",axis=1,inplace=True)"
   ]
  },
  {
   "cell_type": "code",
   "execution_count": 14,
   "id": "a0105d66-cab0-4e9a-87c2-bff38e0c7daa",
   "metadata": {},
   "outputs": [],
   "source": [
    "df1.drop(\"gezilebilir\",axis=1,inplace=True)\n",
    "df1.drop(\"takas\",axis=1,inplace=True)"
   ]
  },
  {
   "cell_type": "code",
   "execution_count": 15,
   "id": "8aba146e-640b-41d9-9b42-95f5461341e7",
   "metadata": {},
   "outputs": [],
   "source": [
    "df1.drop(\"kat_sayisi\",axis=1,inplace=True)"
   ]
  },
  {
   "cell_type": "code",
   "execution_count": 16,
   "id": "7728ee69-01e3-4955-81cc-3e46a464bbf9",
   "metadata": {
    "tags": []
   },
   "outputs": [],
   "source": [
    "df1.drop(\"kullanim_durumu\",axis=1,inplace=True)"
   ]
  },
  {
   "cell_type": "code",
   "execution_count": 17,
   "id": "dcfccca4-0ddb-48fd-a3ff-f15a95366635",
   "metadata": {},
   "outputs": [],
   "source": [
    "df1.drop(\"tapu_durumu\",axis=1,inplace=True)"
   ]
  },
  {
   "cell_type": "code",
   "execution_count": 18,
   "id": "73797cd6-60bb-4005-ad3a-6c4fed458059",
   "metadata": {},
   "outputs": [],
   "source": [
    "df1.to_csv(r\"veri_1.csv\",encoding=\"utf-8\",index=False, mode=\"a\")"
   ]
  },
  {
   "cell_type": "code",
   "execution_count": 261,
   "id": "97eb0c66-cc9a-4dae-aa51-d119e29a2db5",
   "metadata": {},
   "outputs": [],
   "source": [
    "#verileri makine öğrenmesine uygun olması için transform işleleri yapılması gerekiyor"
   ]
  },
  {
   "cell_type": "code",
   "execution_count": 21,
   "id": "cb7e3579-cc68-455c-b1c1-71bf8b27d682",
   "metadata": {},
   "outputs": [],
   "source": [
    "df2=df1.copy()"
   ]
  },
  {
   "cell_type": "code",
   "execution_count": 29,
   "id": "9a59df60-7f67-4749-9f85-75931cf4f87d",
   "metadata": {},
   "outputs": [
    {
     "data": {
      "text/html": [
       "<div>\n",
       "<style scoped>\n",
       "    .dataframe tbody tr th:only-of-type {\n",
       "        vertical-align: middle;\n",
       "    }\n",
       "\n",
       "    .dataframe tbody tr th {\n",
       "        vertical-align: top;\n",
       "    }\n",
       "\n",
       "    .dataframe thead th {\n",
       "        text-align: right;\n",
       "    }\n",
       "</style>\n",
       "<table border=\"1\" class=\"dataframe\">\n",
       "  <thead>\n",
       "    <tr style=\"text-align: right;\">\n",
       "      <th></th>\n",
       "      <th>emlak_tipi</th>\n",
       "      <th>m2_brut</th>\n",
       "      <th>m2_net</th>\n",
       "      <th>oda_sayisi</th>\n",
       "      <th>bina_yaşi</th>\n",
       "      <th>bulundugu_kat</th>\n",
       "      <th>isitma</th>\n",
       "      <th>banyo_sayisi</th>\n",
       "      <th>balkon</th>\n",
       "      <th>esyali</th>\n",
       "      <th>site_icerisi</th>\n",
       "      <th>krediye_uygun</th>\n",
       "      <th>kimden</th>\n",
       "      <th>konum</th>\n",
       "      <th>fiyat</th>\n",
       "    </tr>\n",
       "  </thead>\n",
       "  <tbody>\n",
       "    <tr>\n",
       "      <th>0</th>\n",
       "      <td>Satılık Daire</td>\n",
       "      <td>110.0</td>\n",
       "      <td>100.0</td>\n",
       "      <td>2+1</td>\n",
       "      <td>0</td>\n",
       "      <td>1</td>\n",
       "      <td>Doğalgaz (Kombi)</td>\n",
       "      <td>1</td>\n",
       "      <td>Var</td>\n",
       "      <td>Hayır</td>\n",
       "      <td>Hayır</td>\n",
       "      <td>Evet</td>\n",
       "      <td>İnşaat Firmasından</td>\n",
       "      <td>0</td>\n",
       "      <td>355000.0</td>\n",
       "    </tr>\n",
       "    <tr>\n",
       "      <th>1</th>\n",
       "      <td>Satılık Daire</td>\n",
       "      <td>100.0</td>\n",
       "      <td>90.0</td>\n",
       "      <td>2+1</td>\n",
       "      <td>4</td>\n",
       "      <td>Yüksek Giriş</td>\n",
       "      <td>Doğalgaz (Kombi)</td>\n",
       "      <td>1</td>\n",
       "      <td>Var</td>\n",
       "      <td>Hayır</td>\n",
       "      <td>Hayır</td>\n",
       "      <td>Evet</td>\n",
       "      <td>Emlak Ofisinden</td>\n",
       "      <td>0</td>\n",
       "      <td>295000.0</td>\n",
       "    </tr>\n",
       "    <tr>\n",
       "      <th>2</th>\n",
       "      <td>Satılık Daire</td>\n",
       "      <td>85.0</td>\n",
       "      <td>80.0</td>\n",
       "      <td>2+1</td>\n",
       "      <td>0</td>\n",
       "      <td>1</td>\n",
       "      <td>Doğalgaz (Kombi)</td>\n",
       "      <td>1</td>\n",
       "      <td>Var</td>\n",
       "      <td>Hayır</td>\n",
       "      <td>Hayır</td>\n",
       "      <td>Evet</td>\n",
       "      <td>Emlak Ofisinden</td>\n",
       "      <td>0</td>\n",
       "      <td>370000.0</td>\n",
       "    </tr>\n",
       "    <tr>\n",
       "      <th>3</th>\n",
       "      <td>Satılık Daire</td>\n",
       "      <td>145.0</td>\n",
       "      <td>130.0</td>\n",
       "      <td>3+1</td>\n",
       "      <td>0</td>\n",
       "      <td>2</td>\n",
       "      <td>Doğalgaz (Kombi)</td>\n",
       "      <td>2</td>\n",
       "      <td>Var</td>\n",
       "      <td>Hayır</td>\n",
       "      <td>Hayır</td>\n",
       "      <td>Evet</td>\n",
       "      <td>Emlak Ofisinden</td>\n",
       "      <td>0</td>\n",
       "      <td>420000.0</td>\n",
       "    </tr>\n",
       "    <tr>\n",
       "      <th>4</th>\n",
       "      <td>Satılık Daire</td>\n",
       "      <td>80.0</td>\n",
       "      <td>80.0</td>\n",
       "      <td>2+1</td>\n",
       "      <td>16-20 arası</td>\n",
       "      <td>2</td>\n",
       "      <td>Doğalgaz (Kombi)</td>\n",
       "      <td>1</td>\n",
       "      <td>Var</td>\n",
       "      <td>Hayır</td>\n",
       "      <td>Hayır</td>\n",
       "      <td>Evet</td>\n",
       "      <td>Sahibinden</td>\n",
       "      <td>0</td>\n",
       "      <td>280000.0</td>\n",
       "    </tr>\n",
       "  </tbody>\n",
       "</table>\n",
       "</div>"
      ],
      "text/plain": [
       "         emlak_tipi  m2_brut  m2_net oda_sayisi      bina_yaşi  \\\n",
       "0    Satılık Daire     110.0   100.0        2+1              0   \n",
       "1    Satılık Daire     100.0    90.0        2+1              4   \n",
       "2    Satılık Daire      85.0    80.0        2+1              0   \n",
       "3    Satılık Daire     145.0   130.0        3+1              0   \n",
       "4    Satılık Daire      80.0    80.0        2+1    16-20 arası   \n",
       "\n",
       "    bulundugu_kat              isitma banyo_sayisi balkon   esyali  \\\n",
       "0               1    Doğalgaz (Kombi)            1    Var    Hayır   \n",
       "1    Yüksek Giriş    Doğalgaz (Kombi)            1    Var    Hayır   \n",
       "2               1    Doğalgaz (Kombi)            1    Var    Hayır   \n",
       "3               2    Doğalgaz (Kombi)            2    Var    Hayır   \n",
       "4               2    Doğalgaz (Kombi)            1    Var    Hayır   \n",
       "\n",
       "  site_icerisi krediye_uygun                kimden  konum     fiyat  \n",
       "0        Hayır          Evet    İnşaat Firmasından      0  355000.0  \n",
       "1        Hayır          Evet       Emlak Ofisinden      0  295000.0  \n",
       "2        Hayır          Evet       Emlak Ofisinden      0  370000.0  \n",
       "3        Hayır          Evet       Emlak Ofisinden      0  420000.0  \n",
       "4        Hayır          Evet            Sahibinden      0  280000.0  "
      ]
     },
     "execution_count": 29,
     "metadata": {},
     "output_type": "execute_result"
    }
   ],
   "source": [
    "df2.head()"
   ]
  },
  {
   "cell_type": "code",
   "execution_count": 23,
   "id": "c29ced1f-7963-4c62-8e01-1235f0373146",
   "metadata": {},
   "outputs": [],
   "source": [
    "from sklearn import preprocessing \n",
    "le = preprocessing.LabelEncoder()"
   ]
  },
  {
   "cell_type": "code",
   "execution_count": 24,
   "id": "ea8b17df-08f7-496f-8fd4-c2aa6eb40582",
   "metadata": {},
   "outputs": [
    {
     "data": {
      "text/plain": [
       "Index(['emlak_tipi', 'm2_brut', 'm2_net', 'oda_sayisi', 'bina_yaşi',\n",
       "       'bulundugu_kat', 'isitma', 'banyo_sayisi', 'balkon', 'esyali',\n",
       "       'site_icerisi', 'krediye_uygun', 'kimden', 'konum', 'fiyat'],\n",
       "      dtype='object')"
      ]
     },
     "execution_count": 24,
     "metadata": {},
     "output_type": "execute_result"
    }
   ],
   "source": [
    "df2.columns"
   ]
  },
  {
   "cell_type": "code",
   "execution_count": null,
   "id": "20260653-13db-405d-9d91-7771cccc6cb7",
   "metadata": {},
   "outputs": [],
   "source": [
    "#burda transform işlemi çıktıları bizim için çok önemlidir hangi sayının hangi değere karşolık geldiği\n",
    "#not edilmelidir"
   ]
  },
  {
   "cell_type": "code",
   "execution_count": 26,
   "id": "97221422-8495-4bf9-8372-2afe4868b587",
   "metadata": {},
   "outputs": [],
   "source": [
    "df2[\"konum\"] = le.fit_transform(df2.konum)"
   ]
  },
  {
   "cell_type": "code",
   "execution_count": 27,
   "id": "9a819d6c-67a2-4848-909d-3c0d81ae9a12",
   "metadata": {},
   "outputs": [
    {
     "data": {
      "text/plain": [
       "array(['Gemlik', 'Gürsu', 'Karacabey', 'Kestel', 'Mudanya',\n",
       "       'Mustafakemalpaşa', 'Nilüfer', 'Orhaneli', 'Orhangazi',\n",
       "       'Osmangazi', 'Yenişehir', 'Yıldırım', 'İnegöl'], dtype=object)"
      ]
     },
     "execution_count": 27,
     "metadata": {},
     "output_type": "execute_result"
    }
   ],
   "source": [
    "le.classes_"
   ]
  },
  {
   "cell_type": "code",
   "execution_count": 28,
   "id": "8dbf1878-8eca-4b4b-804f-66c59e4f08d6",
   "metadata": {},
   "outputs": [
    {
     "data": {
      "text/plain": [
       "array([ 0,  1, 12,  2,  3,  4,  5,  6,  7,  8,  9, 10, 11])"
      ]
     },
     "execution_count": 28,
     "metadata": {},
     "output_type": "execute_result"
    }
   ],
   "source": [
    "df2.konum.unique()"
   ]
  },
  {
   "cell_type": "code",
   "execution_count": 30,
   "id": "c49325a9-621f-482b-a9ca-6f1ffc8dbd96",
   "metadata": {},
   "outputs": [],
   "source": [
    "df2[\"emlak_tipi\"] = le.fit_transform(df2.emlak_tipi)"
   ]
  },
  {
   "cell_type": "code",
   "execution_count": 31,
   "id": "dfe98813-cce3-4577-92a8-2382f481ccf6",
   "metadata": {},
   "outputs": [
    {
     "data": {
      "text/plain": [
       "array(['  Satılık Daire ', '  Satılık Residence ', '  Satılık Yazlık '],\n",
       "      dtype=object)"
      ]
     },
     "execution_count": 31,
     "metadata": {},
     "output_type": "execute_result"
    }
   ],
   "source": [
    "le.classes_"
   ]
  },
  {
   "cell_type": "code",
   "execution_count": 32,
   "id": "9a85736e-fafb-4e3e-8c30-055e19842fe4",
   "metadata": {},
   "outputs": [
    {
     "data": {
      "text/plain": [
       "array([0, 2, 1])"
      ]
     },
     "execution_count": 32,
     "metadata": {},
     "output_type": "execute_result"
    }
   ],
   "source": [
    "df2.emlak_tipi.unique()"
   ]
  },
  {
   "cell_type": "code",
   "execution_count": 33,
   "id": "a6c4467a-fdac-488b-a362-8f3ffbd5d003",
   "metadata": {},
   "outputs": [],
   "source": [
    "df2[\"oda_sayisi\"] = le.fit_transform(df2.oda_sayisi)"
   ]
  },
  {
   "cell_type": "code",
   "execution_count": 34,
   "id": "6d5bd26a-f750-4bbd-acde-cb65c03e4eac",
   "metadata": {},
   "outputs": [
    {
     "data": {
      "text/plain": [
       "array(['  1+1', '  1.5+1', '  10+2', '  2+0', '  2+1', '  2+2', '  2.5+1',\n",
       "       '  3+1', '  3+2', '  3.5+1', '  4+1', '  4+2', '  4+3', '  4.5+1',\n",
       "       '  5+1', '  5+2', '  6+1', '  6+2', '  7+1', '  7+2',\n",
       "       '  Stüdyo (1+0)'], dtype=object)"
      ]
     },
     "execution_count": 34,
     "metadata": {},
     "output_type": "execute_result"
    }
   ],
   "source": [
    "le.classes_"
   ]
  },
  {
   "cell_type": "code",
   "execution_count": 35,
   "id": "ff2d87c6-0efa-4636-9949-8fc7b905c83a",
   "metadata": {},
   "outputs": [
    {
     "data": {
      "text/plain": [
       "array([ 4,  7, 10,  9,  0, 14, 16,  6, 13, 15,  8,  3,  1, 11, 18,  5, 17,\n",
       "       19, 12, 20,  2])"
      ]
     },
     "execution_count": 35,
     "metadata": {},
     "output_type": "execute_result"
    }
   ],
   "source": [
    "df2.oda_sayisi.unique()"
   ]
  },
  {
   "cell_type": "code",
   "execution_count": 36,
   "id": "e3765231-1684-4ee4-aa8f-e9f21235967b",
   "metadata": {},
   "outputs": [],
   "source": [
    "df2[\"bina_yaşi\"] = le.fit_transform(df2.bina_yaşi)"
   ]
  },
  {
   "cell_type": "code",
   "execution_count": 37,
   "id": "496c5946-00a2-4b73-a48f-357bfd7d386c",
   "metadata": {},
   "outputs": [
    {
     "data": {
      "text/plain": [
       "array([ 0,  9,  3,  6,  5,  7,  2, 10,  8,  1,  4])"
      ]
     },
     "execution_count": 37,
     "metadata": {},
     "output_type": "execute_result"
    }
   ],
   "source": [
    "df2.bina_yaşi.unique()"
   ]
  },
  {
   "cell_type": "code",
   "execution_count": 38,
   "id": "8beae814-ff99-4a1c-bdf2-4d04b063f5de",
   "metadata": {},
   "outputs": [
    {
     "data": {
      "text/plain": [
       "array(['  0', '  1', '  11-15 arası', '  16-20 arası', '  2',\n",
       "       '  21-25 arası', '  26-30 arası', '  3', '  31 ve üzeri', '  4',\n",
       "       '  5-10 arası'], dtype=object)"
      ]
     },
     "execution_count": 38,
     "metadata": {},
     "output_type": "execute_result"
    }
   ],
   "source": [
    "le.classes_"
   ]
  },
  {
   "cell_type": "code",
   "execution_count": 39,
   "id": "d34d6e70-1c21-492d-9cb4-90c3eed8349d",
   "metadata": {},
   "outputs": [],
   "source": [
    "df2[\"site_icerisi\"] = le.fit_transform(df2.site_icerisi)"
   ]
  },
  {
   "cell_type": "code",
   "execution_count": 40,
   "id": "dfb38701-12af-49dd-92e3-b3fa897dc7bd",
   "metadata": {},
   "outputs": [
    {
     "data": {
      "text/plain": [
       "array([2, 1, 0])"
      ]
     },
     "execution_count": 40,
     "metadata": {},
     "output_type": "execute_result"
    }
   ],
   "source": [
    "df2.site_icerisi.unique()"
   ]
  },
  {
   "cell_type": "code",
   "execution_count": 41,
   "id": "caa9f2fa-18ca-4f06-91d7-7f211eb2b84c",
   "metadata": {},
   "outputs": [
    {
     "data": {
      "text/plain": [
       "array(['  Belirtilmemiş', '  Evet', '  Hayır'], dtype=object)"
      ]
     },
     "execution_count": 41,
     "metadata": {},
     "output_type": "execute_result"
    }
   ],
   "source": [
    "le.classes_"
   ]
  },
  {
   "cell_type": "code",
   "execution_count": 43,
   "id": "a0e18752-668c-4444-bbe2-914cfe5d7cf5",
   "metadata": {},
   "outputs": [
    {
     "data": {
      "text/plain": [
       "Index(['emlak_tipi', 'm2_brut', 'm2_net', 'oda_sayisi', 'bina_yaşi',\n",
       "       'bulundugu_kat', 'isitma', 'banyo_sayisi', 'balkon', 'esyali',\n",
       "       'site_icerisi', 'krediye_uygun', 'kimden', 'konum', 'fiyat'],\n",
       "      dtype='object')"
      ]
     },
     "execution_count": 43,
     "metadata": {},
     "output_type": "execute_result"
    }
   ],
   "source": [
    "df2.columns"
   ]
  },
  {
   "cell_type": "code",
   "execution_count": 44,
   "id": "7beacce6-af51-4cae-b5e3-fc9189f7eafd",
   "metadata": {},
   "outputs": [],
   "source": [
    "df2[\"esyali\"] = le.fit_transform(df2.esyali)"
   ]
  },
  {
   "cell_type": "code",
   "execution_count": 45,
   "id": "73c81055-7477-4440-86fd-25918db0d902",
   "metadata": {},
   "outputs": [
    {
     "data": {
      "text/plain": [
       "array([2, 1, 0])"
      ]
     },
     "execution_count": 45,
     "metadata": {},
     "output_type": "execute_result"
    }
   ],
   "source": [
    "df2.esyali.unique()"
   ]
  },
  {
   "cell_type": "code",
   "execution_count": 46,
   "id": "c03089fd-d7a1-4c83-aec7-d9043bf67c38",
   "metadata": {},
   "outputs": [
    {
     "data": {
      "text/plain": [
       "array(['  Belirtilmemiş', '  Evet', '  Hayır'], dtype=object)"
      ]
     },
     "execution_count": 46,
     "metadata": {},
     "output_type": "execute_result"
    }
   ],
   "source": [
    "le.classes_"
   ]
  },
  {
   "cell_type": "code",
   "execution_count": 47,
   "id": "cfc06222-6152-4e16-8778-b922f73b120e",
   "metadata": {},
   "outputs": [],
   "source": [
    "df2[\"isitma\"] = le.fit_transform(df2.isitma)"
   ]
  },
  {
   "cell_type": "code",
   "execution_count": 48,
   "id": "a19d6d2c-ce01-4433-a8d7-6bd362132512",
   "metadata": {},
   "outputs": [
    {
     "data": {
      "text/plain": [
       "array([ 0, 10,  8,  9,  1,  5,  6,  7,  4,  3,  2, 11])"
      ]
     },
     "execution_count": 48,
     "metadata": {},
     "output_type": "execute_result"
    }
   ],
   "source": [
    "df2.isitma.unique()"
   ]
  },
  {
   "cell_type": "code",
   "execution_count": 49,
   "id": "e4e8a38a-4a2a-4dca-9866-75da7280d8a9",
   "metadata": {},
   "outputs": [
    {
     "data": {
      "text/plain": [
       "array(['  Doğalgaz (Kombi)', '  Doğalgaz Sobası', '  Güneş Enerjisi',\n",
       "       '  Isı Pompası', '  Kat Kaloriferi', '  Klima', '  Merkezi',\n",
       "       '  Merkezi (Pay Ölçer)', '  Soba', '  Yerden Isıtma', '  Yok',\n",
       "       '  Şömine'], dtype=object)"
      ]
     },
     "execution_count": 49,
     "metadata": {},
     "output_type": "execute_result"
    }
   ],
   "source": [
    "le.classes_"
   ]
  },
  {
   "cell_type": "code",
   "execution_count": 50,
   "id": "06e3efb0-f821-4cb3-b7db-3172139ed977",
   "metadata": {},
   "outputs": [],
   "source": [
    "df2[\"banyo_sayisi\"] = le.fit_transform(df2.banyo_sayisi)"
   ]
  },
  {
   "cell_type": "code",
   "execution_count": 51,
   "id": "5f866cb9-adae-4276-8b06-72a1d9697d80",
   "metadata": {},
   "outputs": [
    {
     "data": {
      "text/plain": [
       "array([0, 1, 2, 3, 4, 5])"
      ]
     },
     "execution_count": 51,
     "metadata": {},
     "output_type": "execute_result"
    }
   ],
   "source": [
    "df2.banyo_sayisi.unique()"
   ]
  },
  {
   "cell_type": "code",
   "execution_count": 52,
   "id": "c85d8fef-09e5-442a-8b15-643114241434",
   "metadata": {},
   "outputs": [
    {
     "data": {
      "text/plain": [
       "array(['  1', '  2', '  3', '  4', '  5', '  Yok'], dtype=object)"
      ]
     },
     "execution_count": 52,
     "metadata": {},
     "output_type": "execute_result"
    }
   ],
   "source": [
    "le.classes_"
   ]
  },
  {
   "cell_type": "code",
   "execution_count": 53,
   "id": "fffa501b-d34f-4d9e-a620-676494086af2",
   "metadata": {},
   "outputs": [],
   "source": [
    "df2[\"bulundugu_kat\"] = le.fit_transform(df2.bulundugu_kat)"
   ]
  },
  {
   "cell_type": "code",
   "execution_count": 54,
   "id": "33f059f0-3bae-468d-b024-78811681ca45",
   "metadata": {},
   "outputs": [
    {
     "data": {
      "text/plain": [
       "array([ 0, 29, 10, 14, 13, 26, 20, 31, 15, 28, 27, 23, 21, 22, 24, 17, 16,\n",
       "        1, 30, 19,  2, 25, 18,  4,  7,  5, 11,  8,  6,  3,  9, 12])"
      ]
     },
     "execution_count": 54,
     "metadata": {},
     "output_type": "execute_result"
    }
   ],
   "source": [
    "df2.bulundugu_kat.unique()"
   ]
  },
  {
   "cell_type": "code",
   "execution_count": 55,
   "id": "5820a1a9-e2ee-4b47-936c-b5a8f2a56add",
   "metadata": {},
   "outputs": [
    {
     "data": {
      "text/plain": [
       "array(['  1', '  10', '  11', '  12', '  13', '  14', '  15', '  16',\n",
       "       '  18', '  19', '  2', '  20', '  21', '  3', '  4', '  5', '  6',\n",
       "       '  7', '  8', '  9', '  Bahçe Katı', '  Bodrum Kat',\n",
       "       '  Giriş Altı Kot 1', '  Giriş Altı Kot 2', '  Giriş Altı Kot 3',\n",
       "       '  Giriş Altı Kot 4', '  Giriş Katı', '  Müstakil', '  Villa Tipi',\n",
       "       '  Yüksek Giriş', '  Zemin Kat', '  Çatı Katı'], dtype=object)"
      ]
     },
     "execution_count": 55,
     "metadata": {},
     "output_type": "execute_result"
    }
   ],
   "source": [
    "le.classes_"
   ]
  },
  {
   "cell_type": "code",
   "execution_count": 70,
   "id": "99e47c3b-8585-4303-ab29-3bf8e72e2827",
   "metadata": {},
   "outputs": [
    {
     "data": {
      "text/html": [
       "<div>\n",
       "<style scoped>\n",
       "    .dataframe tbody tr th:only-of-type {\n",
       "        vertical-align: middle;\n",
       "    }\n",
       "\n",
       "    .dataframe tbody tr th {\n",
       "        vertical-align: top;\n",
       "    }\n",
       "\n",
       "    .dataframe thead th {\n",
       "        text-align: right;\n",
       "    }\n",
       "</style>\n",
       "<table border=\"1\" class=\"dataframe\">\n",
       "  <thead>\n",
       "    <tr style=\"text-align: right;\">\n",
       "      <th></th>\n",
       "      <th>emlak_tipi</th>\n",
       "      <th>m2_brut</th>\n",
       "      <th>m2_net</th>\n",
       "      <th>oda_sayisi</th>\n",
       "      <th>bina_yaşi</th>\n",
       "      <th>bulundugu_kat</th>\n",
       "      <th>isitma</th>\n",
       "      <th>banyo_sayisi</th>\n",
       "      <th>balkon</th>\n",
       "      <th>esyali</th>\n",
       "      <th>site_icerisi</th>\n",
       "      <th>krediye_uygun</th>\n",
       "      <th>kimden</th>\n",
       "      <th>konum</th>\n",
       "      <th>fiyat</th>\n",
       "    </tr>\n",
       "  </thead>\n",
       "  <tbody>\n",
       "    <tr>\n",
       "      <th>0</th>\n",
       "      <td>0</td>\n",
       "      <td>110.0</td>\n",
       "      <td>100.0</td>\n",
       "      <td>4</td>\n",
       "      <td>0</td>\n",
       "      <td>0</td>\n",
       "      <td>0</td>\n",
       "      <td>0</td>\n",
       "      <td>0</td>\n",
       "      <td>2</td>\n",
       "      <td>2</td>\n",
       "      <td>1</td>\n",
       "      <td>3</td>\n",
       "      <td>0</td>\n",
       "      <td>355000.0</td>\n",
       "    </tr>\n",
       "  </tbody>\n",
       "</table>\n",
       "</div>"
      ],
      "text/plain": [
       "   emlak_tipi  m2_brut  m2_net  oda_sayisi  bina_yaşi  bulundugu_kat  isitma  \\\n",
       "0           0    110.0   100.0           4          0              0       0   \n",
       "\n",
       "   banyo_sayisi  balkon  esyali  site_icerisi  krediye_uygun  kimden  konum  \\\n",
       "0             0       0       2             2              1       3      0   \n",
       "\n",
       "      fiyat  \n",
       "0  355000.0  "
      ]
     },
     "execution_count": 70,
     "metadata": {},
     "output_type": "execute_result"
    }
   ],
   "source": [
    "df2.head(1)"
   ]
  },
  {
   "cell_type": "code",
   "execution_count": 59,
   "id": "ac088626-3752-4736-b24e-c945ee8171bb",
   "metadata": {},
   "outputs": [],
   "source": [
    "df2[\"balkon\"] = le.fit_transform(df2.balkon)"
   ]
  },
  {
   "cell_type": "code",
   "execution_count": 60,
   "id": "072a3fdf-9f02-4e59-a12c-426f84143657",
   "metadata": {},
   "outputs": [
    {
     "data": {
      "text/plain": [
       "array([0, 1])"
      ]
     },
     "execution_count": 60,
     "metadata": {},
     "output_type": "execute_result"
    }
   ],
   "source": [
    "df2.balkon.unique()"
   ]
  },
  {
   "cell_type": "code",
   "execution_count": 61,
   "id": "07ebcf44-c3bb-47cc-9609-86c08ea03144",
   "metadata": {},
   "outputs": [
    {
     "data": {
      "text/plain": [
       "array(['  Var', '  Yok'], dtype=object)"
      ]
     },
     "execution_count": 61,
     "metadata": {},
     "output_type": "execute_result"
    }
   ],
   "source": [
    "le.classes_"
   ]
  },
  {
   "cell_type": "code",
   "execution_count": 63,
   "id": "5d1c2829-4c1c-4c81-a8fd-bdaa061dfdc3",
   "metadata": {},
   "outputs": [],
   "source": [
    "df2[\"krediye_uygun\"] = le.fit_transform(df2.krediye_uygun)"
   ]
  },
  {
   "cell_type": "code",
   "execution_count": 64,
   "id": "95632dfc-4bf4-47f9-8644-479f16f3484b",
   "metadata": {},
   "outputs": [
    {
     "data": {
      "text/plain": [
       "array([1, 2, 0])"
      ]
     },
     "execution_count": 64,
     "metadata": {},
     "output_type": "execute_result"
    }
   ],
   "source": [
    "df2.krediye_uygun.unique()"
   ]
  },
  {
   "cell_type": "code",
   "execution_count": 65,
   "id": "9d93fbc7-74c2-4dbf-b0d6-6892e283bedb",
   "metadata": {},
   "outputs": [
    {
     "data": {
      "text/plain": [
       "array(['  Belirtilmemiş', '  Evet', '  Hayır'], dtype=object)"
      ]
     },
     "execution_count": 65,
     "metadata": {},
     "output_type": "execute_result"
    }
   ],
   "source": [
    "le.classes_"
   ]
  },
  {
   "cell_type": "code",
   "execution_count": 67,
   "id": "51c6ac62-6962-4903-9981-5e24bdfc9fb6",
   "metadata": {},
   "outputs": [],
   "source": [
    "df2[\"kimden\"] = le.fit_transform(df2.kimden)"
   ]
  },
  {
   "cell_type": "code",
   "execution_count": 68,
   "id": "7ba657a5-e5e2-4bcd-a219-ded72af3e481",
   "metadata": {},
   "outputs": [
    {
     "data": {
      "text/plain": [
       "array([3, 1, 2, 0])"
      ]
     },
     "execution_count": 68,
     "metadata": {},
     "output_type": "execute_result"
    }
   ],
   "source": [
    "df2.kimden.unique()"
   ]
  },
  {
   "cell_type": "code",
   "execution_count": 69,
   "id": "1bb1dcd1-f69a-41cc-bc59-3660d6f32ed8",
   "metadata": {},
   "outputs": [
    {
     "data": {
      "text/plain": [
       "array(['  Bankadan', '  Emlak Ofisinden', '  Sahibinden',\n",
       "       '  İnşaat Firmasından'], dtype=object)"
      ]
     },
     "execution_count": 69,
     "metadata": {},
     "output_type": "execute_result"
    }
   ],
   "source": [
    "le.classes_"
   ]
  },
  {
   "cell_type": "code",
   "execution_count": 73,
   "id": "0caef67b-560b-4d15-876d-e1db2b9ccf21",
   "metadata": {},
   "outputs": [
    {
     "data": {
      "text/html": [
       "<div>\n",
       "<style scoped>\n",
       "    .dataframe tbody tr th:only-of-type {\n",
       "        vertical-align: middle;\n",
       "    }\n",
       "\n",
       "    .dataframe tbody tr th {\n",
       "        vertical-align: top;\n",
       "    }\n",
       "\n",
       "    .dataframe thead th {\n",
       "        text-align: right;\n",
       "    }\n",
       "</style>\n",
       "<table border=\"1\" class=\"dataframe\">\n",
       "  <thead>\n",
       "    <tr style=\"text-align: right;\">\n",
       "      <th></th>\n",
       "      <th>emlak_tipi</th>\n",
       "      <th>m2_brut</th>\n",
       "      <th>m2_net</th>\n",
       "      <th>oda_sayisi</th>\n",
       "      <th>bina_yaşi</th>\n",
       "      <th>bulundugu_kat</th>\n",
       "      <th>isitma</th>\n",
       "      <th>banyo_sayisi</th>\n",
       "      <th>balkon</th>\n",
       "      <th>esyali</th>\n",
       "      <th>site_icerisi</th>\n",
       "      <th>krediye_uygun</th>\n",
       "      <th>kimden</th>\n",
       "      <th>konum</th>\n",
       "      <th>fiyat</th>\n",
       "    </tr>\n",
       "  </thead>\n",
       "  <tbody>\n",
       "    <tr>\n",
       "      <th>0</th>\n",
       "      <td>0</td>\n",
       "      <td>110.0</td>\n",
       "      <td>100.0</td>\n",
       "      <td>4</td>\n",
       "      <td>0</td>\n",
       "      <td>0</td>\n",
       "      <td>0</td>\n",
       "      <td>0</td>\n",
       "      <td>0</td>\n",
       "      <td>2</td>\n",
       "      <td>2</td>\n",
       "      <td>1</td>\n",
       "      <td>3</td>\n",
       "      <td>0</td>\n",
       "      <td>355000.0</td>\n",
       "    </tr>\n",
       "    <tr>\n",
       "      <th>1</th>\n",
       "      <td>0</td>\n",
       "      <td>100.0</td>\n",
       "      <td>90.0</td>\n",
       "      <td>4</td>\n",
       "      <td>9</td>\n",
       "      <td>29</td>\n",
       "      <td>0</td>\n",
       "      <td>0</td>\n",
       "      <td>0</td>\n",
       "      <td>2</td>\n",
       "      <td>2</td>\n",
       "      <td>1</td>\n",
       "      <td>1</td>\n",
       "      <td>0</td>\n",
       "      <td>295000.0</td>\n",
       "    </tr>\n",
       "    <tr>\n",
       "      <th>2</th>\n",
       "      <td>0</td>\n",
       "      <td>85.0</td>\n",
       "      <td>80.0</td>\n",
       "      <td>4</td>\n",
       "      <td>0</td>\n",
       "      <td>0</td>\n",
       "      <td>0</td>\n",
       "      <td>0</td>\n",
       "      <td>0</td>\n",
       "      <td>2</td>\n",
       "      <td>2</td>\n",
       "      <td>1</td>\n",
       "      <td>1</td>\n",
       "      <td>0</td>\n",
       "      <td>370000.0</td>\n",
       "    </tr>\n",
       "    <tr>\n",
       "      <th>3</th>\n",
       "      <td>0</td>\n",
       "      <td>145.0</td>\n",
       "      <td>130.0</td>\n",
       "      <td>7</td>\n",
       "      <td>0</td>\n",
       "      <td>10</td>\n",
       "      <td>0</td>\n",
       "      <td>1</td>\n",
       "      <td>0</td>\n",
       "      <td>2</td>\n",
       "      <td>2</td>\n",
       "      <td>1</td>\n",
       "      <td>1</td>\n",
       "      <td>0</td>\n",
       "      <td>420000.0</td>\n",
       "    </tr>\n",
       "    <tr>\n",
       "      <th>4</th>\n",
       "      <td>0</td>\n",
       "      <td>80.0</td>\n",
       "      <td>80.0</td>\n",
       "      <td>4</td>\n",
       "      <td>3</td>\n",
       "      <td>10</td>\n",
       "      <td>0</td>\n",
       "      <td>0</td>\n",
       "      <td>0</td>\n",
       "      <td>2</td>\n",
       "      <td>2</td>\n",
       "      <td>1</td>\n",
       "      <td>2</td>\n",
       "      <td>0</td>\n",
       "      <td>280000.0</td>\n",
       "    </tr>\n",
       "    <tr>\n",
       "      <th>...</th>\n",
       "      <td>...</td>\n",
       "      <td>...</td>\n",
       "      <td>...</td>\n",
       "      <td>...</td>\n",
       "      <td>...</td>\n",
       "      <td>...</td>\n",
       "      <td>...</td>\n",
       "      <td>...</td>\n",
       "      <td>...</td>\n",
       "      <td>...</td>\n",
       "      <td>...</td>\n",
       "      <td>...</td>\n",
       "      <td>...</td>\n",
       "      <td>...</td>\n",
       "      <td>...</td>\n",
       "    </tr>\n",
       "    <tr>\n",
       "      <th>4806</th>\n",
       "      <td>0</td>\n",
       "      <td>170.0</td>\n",
       "      <td>152.0</td>\n",
       "      <td>10</td>\n",
       "      <td>1</td>\n",
       "      <td>13</td>\n",
       "      <td>0</td>\n",
       "      <td>1</td>\n",
       "      <td>0</td>\n",
       "      <td>2</td>\n",
       "      <td>2</td>\n",
       "      <td>1</td>\n",
       "      <td>1</td>\n",
       "      <td>11</td>\n",
       "      <td>550000.0</td>\n",
       "    </tr>\n",
       "    <tr>\n",
       "      <th>4807</th>\n",
       "      <td>0</td>\n",
       "      <td>135.0</td>\n",
       "      <td>120.0</td>\n",
       "      <td>7</td>\n",
       "      <td>3</td>\n",
       "      <td>15</td>\n",
       "      <td>0</td>\n",
       "      <td>0</td>\n",
       "      <td>0</td>\n",
       "      <td>2</td>\n",
       "      <td>1</td>\n",
       "      <td>1</td>\n",
       "      <td>1</td>\n",
       "      <td>11</td>\n",
       "      <td>420000.0</td>\n",
       "    </tr>\n",
       "    <tr>\n",
       "      <th>4808</th>\n",
       "      <td>0</td>\n",
       "      <td>90.0</td>\n",
       "      <td>80.0</td>\n",
       "      <td>4</td>\n",
       "      <td>5</td>\n",
       "      <td>29</td>\n",
       "      <td>0</td>\n",
       "      <td>0</td>\n",
       "      <td>0</td>\n",
       "      <td>2</td>\n",
       "      <td>2</td>\n",
       "      <td>1</td>\n",
       "      <td>1</td>\n",
       "      <td>11</td>\n",
       "      <td>225000.0</td>\n",
       "    </tr>\n",
       "    <tr>\n",
       "      <th>4809</th>\n",
       "      <td>0</td>\n",
       "      <td>105.0</td>\n",
       "      <td>95.0</td>\n",
       "      <td>4</td>\n",
       "      <td>2</td>\n",
       "      <td>0</td>\n",
       "      <td>0</td>\n",
       "      <td>0</td>\n",
       "      <td>0</td>\n",
       "      <td>2</td>\n",
       "      <td>2</td>\n",
       "      <td>1</td>\n",
       "      <td>1</td>\n",
       "      <td>11</td>\n",
       "      <td>220000.0</td>\n",
       "    </tr>\n",
       "    <tr>\n",
       "      <th>4810</th>\n",
       "      <td>0</td>\n",
       "      <td>110.0</td>\n",
       "      <td>100.0</td>\n",
       "      <td>4</td>\n",
       "      <td>8</td>\n",
       "      <td>15</td>\n",
       "      <td>6</td>\n",
       "      <td>0</td>\n",
       "      <td>0</td>\n",
       "      <td>2</td>\n",
       "      <td>2</td>\n",
       "      <td>1</td>\n",
       "      <td>1</td>\n",
       "      <td>11</td>\n",
       "      <td>294000.0</td>\n",
       "    </tr>\n",
       "  </tbody>\n",
       "</table>\n",
       "<p>4811 rows × 15 columns</p>\n",
       "</div>"
      ],
      "text/plain": [
       "      emlak_tipi  m2_brut  m2_net  oda_sayisi  bina_yaşi  bulundugu_kat  \\\n",
       "0              0    110.0   100.0           4          0              0   \n",
       "1              0    100.0    90.0           4          9             29   \n",
       "2              0     85.0    80.0           4          0              0   \n",
       "3              0    145.0   130.0           7          0             10   \n",
       "4              0     80.0    80.0           4          3             10   \n",
       "...          ...      ...     ...         ...        ...            ...   \n",
       "4806           0    170.0   152.0          10          1             13   \n",
       "4807           0    135.0   120.0           7          3             15   \n",
       "4808           0     90.0    80.0           4          5             29   \n",
       "4809           0    105.0    95.0           4          2              0   \n",
       "4810           0    110.0   100.0           4          8             15   \n",
       "\n",
       "      isitma  banyo_sayisi  balkon  esyali  site_icerisi  krediye_uygun  \\\n",
       "0          0             0       0       2             2              1   \n",
       "1          0             0       0       2             2              1   \n",
       "2          0             0       0       2             2              1   \n",
       "3          0             1       0       2             2              1   \n",
       "4          0             0       0       2             2              1   \n",
       "...      ...           ...     ...     ...           ...            ...   \n",
       "4806       0             1       0       2             2              1   \n",
       "4807       0             0       0       2             1              1   \n",
       "4808       0             0       0       2             2              1   \n",
       "4809       0             0       0       2             2              1   \n",
       "4810       6             0       0       2             2              1   \n",
       "\n",
       "      kimden  konum     fiyat  \n",
       "0          3      0  355000.0  \n",
       "1          1      0  295000.0  \n",
       "2          1      0  370000.0  \n",
       "3          1      0  420000.0  \n",
       "4          2      0  280000.0  \n",
       "...      ...    ...       ...  \n",
       "4806       1     11  550000.0  \n",
       "4807       1     11  420000.0  \n",
       "4808       1     11  225000.0  \n",
       "4809       1     11  220000.0  \n",
       "4810       1     11  294000.0  \n",
       "\n",
       "[4811 rows x 15 columns]"
      ]
     },
     "execution_count": 73,
     "metadata": {},
     "output_type": "execute_result"
    }
   ],
   "source": [
    "df2"
   ]
  },
  {
   "cell_type": "code",
   "execution_count": 75,
   "id": "4884fa1f-6f6d-48f7-9d7a-e168dd43ebe9",
   "metadata": {},
   "outputs": [],
   "source": [
    "df2.to_csv(r\"veri_transform.csv\",encoding=\"utf-8\",index=False, mode=\"a\")"
   ]
  },
  {
   "cell_type": "markdown",
   "id": "29f64b77-c105-4778-98ef-e9348aec7f20",
   "metadata": {},
   "source": [
    "# veriyi makine öğrenmesine uygun olarak tranform edildi "
   ]
  }
 ],
 "metadata": {
  "kernelspec": {
   "display_name": "Python 3",
   "language": "python",
   "name": "python3"
  },
  "language_info": {
   "codemirror_mode": {
    "name": "ipython",
    "version": 3
   },
   "file_extension": ".py",
   "mimetype": "text/x-python",
   "name": "python",
   "nbconvert_exporter": "python",
   "pygments_lexer": "ipython3",
   "version": "3.8.8"
  }
 },
 "nbformat": 4,
 "nbformat_minor": 5
}
